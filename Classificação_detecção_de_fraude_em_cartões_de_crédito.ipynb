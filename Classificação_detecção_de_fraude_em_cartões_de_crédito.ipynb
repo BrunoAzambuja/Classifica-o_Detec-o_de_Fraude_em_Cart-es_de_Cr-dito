{
  "nbformat": 4,
  "nbformat_minor": 0,
  "metadata": {
    "colab": {
      "provenance": [],
      "toc_visible": true,
      "collapsed_sections": [
        "ULe7z0jZt0EH",
        "wJNH5qcjRxfX",
        "3e4ENOTYSUXi",
        "0Bj7zRZMSfO7"
      ],
      "include_colab_link": true
    },
    "kernelspec": {
      "name": "python3",
      "display_name": "Python 3"
    }
  },
  "cells": [
    {
      "cell_type": "markdown",
      "metadata": {
        "id": "view-in-github",
        "colab_type": "text"
      },
      "source": [
        "<a href=\"https://colab.research.google.com/github/BrunoAzambuja/Classificacao_deteccao_de_fraude_em_cartoes_de_credito/blob/main/Classifica%C3%A7%C3%A3o_detec%C3%A7%C3%A3o_de_fraude_em_cart%C3%B5es_de_cr%C3%A9dito.ipynb\" target=\"_parent\"><img src=\"https://colab.research.google.com/assets/colab-badge.svg\" alt=\"Open In Colab\"/></a>"
      ]
    },
    {
      "cell_type": "markdown",
      "metadata": {
        "id": "lSkIUEy3SWOy"
      },
      "source": [
        "# Detecção de Fraudes em Cartões de Crédito\n",
        "#### Modelos de classificação aplicados aos dados de uma empresa de cartões de crédito.\n",
        "\n",
        "*by [Bruno Azambuja](www.brunoazambuja.com)*\n"
      ]
    },
    {
      "cell_type": "markdown",
      "metadata": {
        "id": "IR56trFcPcC1"
      },
      "source": [
        "<p align=center>\n",
        "<img src=\"https://img.freepik.com/vetores-gratis/seguranca-global-de-dados-seguranca-de-dados-pessoais-ilustracao-do-conceito-on-line-de-seguranca-de-dados-ciberneticos-seguranca-da-internet-ou-privacidade-e-protecao-de-informacoes_1150-37350.jpg?size=626&ext=jpg&ga=GA1.2.1955465933.1669992464&semt=sph\" width=\"60%\"></p>\n",
        "\n",
        "Neste projeto iremos abordar o problema das fraudes em cartões de crédito, uma das principais preocupações das instituições financeiras como bancos e *fintechs*. Apenas no Brasil, cerca de 12,1 milhões de pessoas já foram vítimas de algum tipo de fraude financeira no último ano. Traduzindo em valores, os golpes financeiros ultrapassaram a cifra de R$ 1,8 bilhão de prejuízo por ano para os últimos 12 meses.\n",
        "\n",
        "Dentro dessas fraudes, aquelas envolvendo cartões de crédito são de grande relevância, uma vez que a sua não-detecção acarretará em prejuízos consideráveis, tanto para o consumidor quanto para a instituição financeira.\n",
        "\n",
        "Um outro fator a ser considerado é a quantidade de falsos positivos, ou seja, aquelas vezes em que você tentou fazer uma compra e teve seu cartão bloqueado preventivamente - o que provavelmente gerou estresse e constrangimento.\n",
        "\n",
        "Por todos esses motivos, o investimento na área de detecção de fraudes por meio de Inteligência Artificial vem crescendo a cada ano, representando uma grande oportunidade em *Data Science*. \n",
        "\n",
        "Dispondo de grandes volumes de dados como base histórica, um algoritmo de machine learning apenas um pouco melhor que os anteriores já representa uma economia de milhões de reais. E esse é o desafio, aprimorar cada vez mais o uso de algoritmos visando inibir ou evitar transações fraudulentas."
      ]
    },
    {
      "cell_type": "markdown",
      "metadata": {
        "id": "FiQMZP77Thwk"
      },
      "source": [
        "## Premissas estabelecidas para o projeto"
      ]
    },
    {
      "cell_type": "markdown",
      "metadata": {
        "id": "_qu69ikwTqxI"
      },
      "source": [
        "Neste projeto, como já introduzimos, iremos desenvolver um modelo classificador para detecção de fraude em cartões de crédito usando modelos de machine learning.\n",
        "\n",
        "Além disso, veremos quais insights podem ser extraídos a partir deste estudo.\n",
        "\n",
        "Primeiramente estes dados serão tratados, e na sequência, serão desenvolvidos modelos de *Machine Learning* (Regressão Logística, Decision Tree e KNN), realizando-se a comparação entre eles, assim como a avaliação de desempenho destes modelos.\n",
        "\n"
      ]
    },
    {
      "cell_type": "markdown",
      "metadata": {
        "id": "0HVmpIxQWT4Y"
      },
      "source": [
        "## Importando os dados\n"
      ]
    },
    {
      "cell_type": "markdown",
      "source": [
        "\n",
        "Os dados que usaremos neste projeto foram disponibilizados por algumas empresas européias de cartão de crédito, sendo possível acessar e fazer download destes dados na página do [Kaggle](https://www.kaggle.com/mlg-ulb/creditcardfraud); nele se tem acesso aos dados abertos ao público que tem interesse em utilizá-los.\n",
        "\n",
        "<center><img alt = \"Colaboratory logo\" width = \"20%\" src = \"https://upload.wikimedia.org/wikipedia/commons/7/7c/Kaggle_logo.png\"></center>\n",
        "\n",
        "O *dataset* utilizado representa as operações financeiras que aconteceram no período de dois dias, onde foram classificadas 492 fraudes em meio a quase 290 mil transações.\n",
        "\n",
        "Como se pode notar, este é um conjunto de dados extremamente desbalanceado, onde as fraudes representam apenas 0,17% do total.\n",
        "\n",
        "Outro detalhe interessante é que as *features* são todas numéricas, e foram descaracterizadas (por problemas ligados à privacidade e segurança). Assim, os nomes das colunas são representados por [V1, V2, V3..., V28].\n",
        "\n",
        "Na página original dos dados, também é informado que as variáveis passaram por uma transformação conhecida como Análise de Componentes Principais (*Principal Component Analysis* - PCA).\n",
        "\n",
        "A PCA permite a redução da dimensionalidade enquanto mantém o maior número possível de informações. Para conseguir isso, o algoritmo encontra um conjunto novo de recursos - os chamados **componentes**.\n",
        "\n",
        "Esses componentes são em número menor ou igual às variáveis originais. No caso deste projeto, os componentes achados pela transformação da PCA são as próprias colunas [V1, V2, V3..., V28]."
      ],
      "metadata": {
        "id": "5VQwhOOOVFLZ"
      }
    },
    {
      "cell_type": "code",
      "source": [
        "# suprimir os warnings\n",
        "from warnings import simplefilter\n",
        "simplefilter(action='ignore', category=FutureWarning)\n",
        "\n",
        "# instalar a biblioteca scikit-plot\n",
        "!pip install -q scikit-plot"
      ],
      "metadata": {
        "id": "0ZO-ihupde4O"
      },
      "execution_count": null,
      "outputs": []
    },
    {
      "cell_type": "code",
      "metadata": {
        "id": "oQ4bNy7udtEE"
      },
      "source": [
        "# importar os pacotes necessários\n",
        "import pandas as pd\n",
        "import numpy as np\n",
        "import matplotlib.pyplot as plt\n",
        "import seaborn as sns\n",
        "import scikitplot as skplt\n",
        "\n",
        "from sklearn.model_selection import train_test_split\n",
        "from sklearn.preprocessing import StandardScaler\n",
        "from sklearn.linear_model import LogisticRegression\n",
        "from sklearn.metrics import classification_report\n",
        "from sklearn.metrics import roc_auc_score, roc_curve, accuracy_score\n",
        "from sklearn.tree  import DecisionTreeClassifier\n",
        "from sklearn.neighbors import KNeighborsClassifier\n",
        "from imblearn.under_sampling import RandomUnderSampler\n",
        "\n",
        "# configurar o estilo dos gráficos com o Seaborn\n",
        "sns.set_style('dark')"
      ],
      "execution_count": null,
      "outputs": []
    },
    {
      "cell_type": "markdown",
      "metadata": {
        "id": "g5XDTWW5LRVe"
      },
      "source": [
        "Para facilitar a aquisição dos dados, criei um *link* com acesso direto ao `csv`. Com isso, basta importar o conjunto de dados usando o método `pd.read_csv()`."
      ]
    },
    {
      "cell_type": "code",
      "metadata": {
        "id": "4NxUOfDOj2j8"
      },
      "source": [
        "file_path = \"https://www.dropbox.com/s/b44o3t3ehmnx2b7/creditcard.csv?dl=1\"\n",
        "\n",
        "# importar os dados para um dataframe\n",
        "df = pd.read_csv(file_path)"
      ],
      "execution_count": null,
      "outputs": []
    },
    {
      "cell_type": "code",
      "source": [
        "# dimensões do conjunto original\n",
        "print(\"Dimensões do Conjunto Original: \", df.shape)\n",
        "\n",
        "# criando o conjunto de teste\n",
        "test = df.sample(frac=0.15, random_state=0)\n",
        "\n",
        "# drop das linhas de teste\n",
        "df = df.drop(test.index)\n",
        "\n",
        "# verificando o conjunto\n",
        "print(\"Dimensões do Conjunto de Teste: \", test.shape)\n",
        "print(\"Dimensões do Conjunto de Treino: \", df.shape)"
      ],
      "metadata": {
        "colab": {
          "base_uri": "https://localhost:8080/"
        },
        "id": "We30TriM0G0s",
        "outputId": "8cd6bc34-9fd7-4dc6-d73a-5f4e75f1a6ab"
      },
      "execution_count": null,
      "outputs": [
        {
          "output_type": "stream",
          "name": "stdout",
          "text": [
            "Dimensões do Conjunto Original:  (284807, 31)\n",
            "Dimensões do Conjunto de Teste:  (42721, 31)\n",
            "Dimensões do Conjunto de Treino:  (242086, 31)\n"
          ]
        }
      ]
    },
    {
      "cell_type": "markdown",
      "metadata": {
        "id": "7nF_Dhd81Cvq"
      },
      "source": [
        "Com os dados importados para dentro de uma estrutura *Dataframe* - e não havendo a necessidade de mais nenhum ajuste ou configuração nesta etapa, pode-se iniciar uma análise exploratória dos dados a fim de preparar o modelo de *Machine Learning*.\n",
        "\n",
        "Lembrando que foi realizado o *split* dos conjuntos para evitar o vazamento de dados. Feito isso, vamos à Análise Exploratória."
      ]
    },
    {
      "cell_type": "markdown",
      "metadata": {
        "id": "8UtXyZ6stlSM"
      },
      "source": [
        "## Insights: análise exploratória"
      ]
    },
    {
      "cell_type": "markdown",
      "source": [
        "Apenas olhando as cinco primeiras entradas é possível tirar algumas conclusões:\n",
        "\n",
        "* As 5 primeiras entradas permitem entender como a transformação PCA deixou as *features* descaracterizadas (anônimas) e em valores numéricos. Para saber mais sobre PCA, [clique neste *link*](http://www2.ic.uff.br/~aconci/PCA-ACP.pdf);\n",
        "\n",
        "* As colunas `Time` e `Amount` foram preservadas, mantendo seu valor original;\n",
        "\n",
        "* A variável alvo está representada na coluna `Class`, onde: **0** Transação normal e **1** Transação fraudulenta."
      ],
      "metadata": {
        "id": "4La1ybe9g6bE"
      }
    },
    {
      "cell_type": "code",
      "source": [
        "# ver as primeiras entradas\n",
        "df.head()"
      ],
      "metadata": {
        "colab": {
          "base_uri": "https://localhost:8080/",
          "height": 236
        },
        "id": "q0JGfn9Vg7MD",
        "outputId": "27714950-8e05-44ea-abe4-2836257ef24f"
      },
      "execution_count": null,
      "outputs": [
        {
          "output_type": "execute_result",
          "data": {
            "text/plain": [
              "   Time        V1        V2        V3        V4        V5        V6        V7  \\\n",
              "0   0.0 -1.359807 -0.072781  2.536347  1.378155 -0.338321  0.462388  0.239599   \n",
              "1   0.0  1.191857  0.266151  0.166480  0.448154  0.060018 -0.082361 -0.078803   \n",
              "2   1.0 -1.358354 -1.340163  1.773209  0.379780 -0.503198  1.800499  0.791461   \n",
              "3   1.0 -0.966272 -0.185226  1.792993 -0.863291 -0.010309  1.247203  0.237609   \n",
              "4   2.0 -1.158233  0.877737  1.548718  0.403034 -0.407193  0.095921  0.592941   \n",
              "\n",
              "         V8        V9  ...       V21       V22       V23       V24       V25  \\\n",
              "0  0.098698  0.363787  ... -0.018307  0.277838 -0.110474  0.066928  0.128539   \n",
              "1  0.085102 -0.255425  ... -0.225775 -0.638672  0.101288 -0.339846  0.167170   \n",
              "2  0.247676 -1.514654  ...  0.247998  0.771679  0.909412 -0.689281 -0.327642   \n",
              "3  0.377436 -1.387024  ... -0.108300  0.005274 -0.190321 -1.175575  0.647376   \n",
              "4 -0.270533  0.817739  ... -0.009431  0.798278 -0.137458  0.141267 -0.206010   \n",
              "\n",
              "        V26       V27       V28  Amount  Class  \n",
              "0 -0.189115  0.133558 -0.021053  149.62      0  \n",
              "1  0.125895 -0.008983  0.014724    2.69      0  \n",
              "2 -0.139097 -0.055353 -0.059752  378.66      0  \n",
              "3 -0.221929  0.062723  0.061458  123.50      0  \n",
              "4  0.502292  0.219422  0.215153   69.99      0  \n",
              "\n",
              "[5 rows x 31 columns]"
            ],
            "text/html": [
              "\n",
              "  <div id=\"df-fa574207-0daf-41aa-9d4a-7ce2038b1121\">\n",
              "    <div class=\"colab-df-container\">\n",
              "      <div>\n",
              "<style scoped>\n",
              "    .dataframe tbody tr th:only-of-type {\n",
              "        vertical-align: middle;\n",
              "    }\n",
              "\n",
              "    .dataframe tbody tr th {\n",
              "        vertical-align: top;\n",
              "    }\n",
              "\n",
              "    .dataframe thead th {\n",
              "        text-align: right;\n",
              "    }\n",
              "</style>\n",
              "<table border=\"1\" class=\"dataframe\">\n",
              "  <thead>\n",
              "    <tr style=\"text-align: right;\">\n",
              "      <th></th>\n",
              "      <th>Time</th>\n",
              "      <th>V1</th>\n",
              "      <th>V2</th>\n",
              "      <th>V3</th>\n",
              "      <th>V4</th>\n",
              "      <th>V5</th>\n",
              "      <th>V6</th>\n",
              "      <th>V7</th>\n",
              "      <th>V8</th>\n",
              "      <th>V9</th>\n",
              "      <th>...</th>\n",
              "      <th>V21</th>\n",
              "      <th>V22</th>\n",
              "      <th>V23</th>\n",
              "      <th>V24</th>\n",
              "      <th>V25</th>\n",
              "      <th>V26</th>\n",
              "      <th>V27</th>\n",
              "      <th>V28</th>\n",
              "      <th>Amount</th>\n",
              "      <th>Class</th>\n",
              "    </tr>\n",
              "  </thead>\n",
              "  <tbody>\n",
              "    <tr>\n",
              "      <th>0</th>\n",
              "      <td>0.0</td>\n",
              "      <td>-1.359807</td>\n",
              "      <td>-0.072781</td>\n",
              "      <td>2.536347</td>\n",
              "      <td>1.378155</td>\n",
              "      <td>-0.338321</td>\n",
              "      <td>0.462388</td>\n",
              "      <td>0.239599</td>\n",
              "      <td>0.098698</td>\n",
              "      <td>0.363787</td>\n",
              "      <td>...</td>\n",
              "      <td>-0.018307</td>\n",
              "      <td>0.277838</td>\n",
              "      <td>-0.110474</td>\n",
              "      <td>0.066928</td>\n",
              "      <td>0.128539</td>\n",
              "      <td>-0.189115</td>\n",
              "      <td>0.133558</td>\n",
              "      <td>-0.021053</td>\n",
              "      <td>149.62</td>\n",
              "      <td>0</td>\n",
              "    </tr>\n",
              "    <tr>\n",
              "      <th>1</th>\n",
              "      <td>0.0</td>\n",
              "      <td>1.191857</td>\n",
              "      <td>0.266151</td>\n",
              "      <td>0.166480</td>\n",
              "      <td>0.448154</td>\n",
              "      <td>0.060018</td>\n",
              "      <td>-0.082361</td>\n",
              "      <td>-0.078803</td>\n",
              "      <td>0.085102</td>\n",
              "      <td>-0.255425</td>\n",
              "      <td>...</td>\n",
              "      <td>-0.225775</td>\n",
              "      <td>-0.638672</td>\n",
              "      <td>0.101288</td>\n",
              "      <td>-0.339846</td>\n",
              "      <td>0.167170</td>\n",
              "      <td>0.125895</td>\n",
              "      <td>-0.008983</td>\n",
              "      <td>0.014724</td>\n",
              "      <td>2.69</td>\n",
              "      <td>0</td>\n",
              "    </tr>\n",
              "    <tr>\n",
              "      <th>2</th>\n",
              "      <td>1.0</td>\n",
              "      <td>-1.358354</td>\n",
              "      <td>-1.340163</td>\n",
              "      <td>1.773209</td>\n",
              "      <td>0.379780</td>\n",
              "      <td>-0.503198</td>\n",
              "      <td>1.800499</td>\n",
              "      <td>0.791461</td>\n",
              "      <td>0.247676</td>\n",
              "      <td>-1.514654</td>\n",
              "      <td>...</td>\n",
              "      <td>0.247998</td>\n",
              "      <td>0.771679</td>\n",
              "      <td>0.909412</td>\n",
              "      <td>-0.689281</td>\n",
              "      <td>-0.327642</td>\n",
              "      <td>-0.139097</td>\n",
              "      <td>-0.055353</td>\n",
              "      <td>-0.059752</td>\n",
              "      <td>378.66</td>\n",
              "      <td>0</td>\n",
              "    </tr>\n",
              "    <tr>\n",
              "      <th>3</th>\n",
              "      <td>1.0</td>\n",
              "      <td>-0.966272</td>\n",
              "      <td>-0.185226</td>\n",
              "      <td>1.792993</td>\n",
              "      <td>-0.863291</td>\n",
              "      <td>-0.010309</td>\n",
              "      <td>1.247203</td>\n",
              "      <td>0.237609</td>\n",
              "      <td>0.377436</td>\n",
              "      <td>-1.387024</td>\n",
              "      <td>...</td>\n",
              "      <td>-0.108300</td>\n",
              "      <td>0.005274</td>\n",
              "      <td>-0.190321</td>\n",
              "      <td>-1.175575</td>\n",
              "      <td>0.647376</td>\n",
              "      <td>-0.221929</td>\n",
              "      <td>0.062723</td>\n",
              "      <td>0.061458</td>\n",
              "      <td>123.50</td>\n",
              "      <td>0</td>\n",
              "    </tr>\n",
              "    <tr>\n",
              "      <th>4</th>\n",
              "      <td>2.0</td>\n",
              "      <td>-1.158233</td>\n",
              "      <td>0.877737</td>\n",
              "      <td>1.548718</td>\n",
              "      <td>0.403034</td>\n",
              "      <td>-0.407193</td>\n",
              "      <td>0.095921</td>\n",
              "      <td>0.592941</td>\n",
              "      <td>-0.270533</td>\n",
              "      <td>0.817739</td>\n",
              "      <td>...</td>\n",
              "      <td>-0.009431</td>\n",
              "      <td>0.798278</td>\n",
              "      <td>-0.137458</td>\n",
              "      <td>0.141267</td>\n",
              "      <td>-0.206010</td>\n",
              "      <td>0.502292</td>\n",
              "      <td>0.219422</td>\n",
              "      <td>0.215153</td>\n",
              "      <td>69.99</td>\n",
              "      <td>0</td>\n",
              "    </tr>\n",
              "  </tbody>\n",
              "</table>\n",
              "<p>5 rows × 31 columns</p>\n",
              "</div>\n",
              "      <button class=\"colab-df-convert\" onclick=\"convertToInteractive('df-fa574207-0daf-41aa-9d4a-7ce2038b1121')\"\n",
              "              title=\"Convert this dataframe to an interactive table.\"\n",
              "              style=\"display:none;\">\n",
              "        \n",
              "  <svg xmlns=\"http://www.w3.org/2000/svg\" height=\"24px\"viewBox=\"0 0 24 24\"\n",
              "       width=\"24px\">\n",
              "    <path d=\"M0 0h24v24H0V0z\" fill=\"none\"/>\n",
              "    <path d=\"M18.56 5.44l.94 2.06.94-2.06 2.06-.94-2.06-.94-.94-2.06-.94 2.06-2.06.94zm-11 1L8.5 8.5l.94-2.06 2.06-.94-2.06-.94L8.5 2.5l-.94 2.06-2.06.94zm10 10l.94 2.06.94-2.06 2.06-.94-2.06-.94-.94-2.06-.94 2.06-2.06.94z\"/><path d=\"M17.41 7.96l-1.37-1.37c-.4-.4-.92-.59-1.43-.59-.52 0-1.04.2-1.43.59L10.3 9.45l-7.72 7.72c-.78.78-.78 2.05 0 2.83L4 21.41c.39.39.9.59 1.41.59.51 0 1.02-.2 1.41-.59l7.78-7.78 2.81-2.81c.8-.78.8-2.07 0-2.86zM5.41 20L4 18.59l7.72-7.72 1.47 1.35L5.41 20z\"/>\n",
              "  </svg>\n",
              "      </button>\n",
              "      \n",
              "  <style>\n",
              "    .colab-df-container {\n",
              "      display:flex;\n",
              "      flex-wrap:wrap;\n",
              "      gap: 12px;\n",
              "    }\n",
              "\n",
              "    .colab-df-convert {\n",
              "      background-color: #E8F0FE;\n",
              "      border: none;\n",
              "      border-radius: 50%;\n",
              "      cursor: pointer;\n",
              "      display: none;\n",
              "      fill: #1967D2;\n",
              "      height: 32px;\n",
              "      padding: 0 0 0 0;\n",
              "      width: 32px;\n",
              "    }\n",
              "\n",
              "    .colab-df-convert:hover {\n",
              "      background-color: #E2EBFA;\n",
              "      box-shadow: 0px 1px 2px rgba(60, 64, 67, 0.3), 0px 1px 3px 1px rgba(60, 64, 67, 0.15);\n",
              "      fill: #174EA6;\n",
              "    }\n",
              "\n",
              "    [theme=dark] .colab-df-convert {\n",
              "      background-color: #3B4455;\n",
              "      fill: #D2E3FC;\n",
              "    }\n",
              "\n",
              "    [theme=dark] .colab-df-convert:hover {\n",
              "      background-color: #434B5C;\n",
              "      box-shadow: 0px 1px 3px 1px rgba(0, 0, 0, 0.15);\n",
              "      filter: drop-shadow(0px 1px 2px rgba(0, 0, 0, 0.3));\n",
              "      fill: #FFFFFF;\n",
              "    }\n",
              "  </style>\n",
              "\n",
              "      <script>\n",
              "        const buttonEl =\n",
              "          document.querySelector('#df-fa574207-0daf-41aa-9d4a-7ce2038b1121 button.colab-df-convert');\n",
              "        buttonEl.style.display =\n",
              "          google.colab.kernel.accessAllowed ? 'block' : 'none';\n",
              "\n",
              "        async function convertToInteractive(key) {\n",
              "          const element = document.querySelector('#df-fa574207-0daf-41aa-9d4a-7ce2038b1121');\n",
              "          const dataTable =\n",
              "            await google.colab.kernel.invokeFunction('convertToInteractive',\n",
              "                                                     [key], {});\n",
              "          if (!dataTable) return;\n",
              "\n",
              "          const docLinkHtml = 'Like what you see? Visit the ' +\n",
              "            '<a target=\"_blank\" href=https://colab.research.google.com/notebooks/data_table.ipynb>data table notebook</a>'\n",
              "            + ' to learn more about interactive tables.';\n",
              "          element.innerHTML = '';\n",
              "          dataTable['output_type'] = 'display_data';\n",
              "          await google.colab.output.renderOutput(dataTable, element);\n",
              "          const docLink = document.createElement('div');\n",
              "          docLink.innerHTML = docLinkHtml;\n",
              "          element.appendChild(docLink);\n",
              "        }\n",
              "      </script>\n",
              "    </div>\n",
              "  </div>\n",
              "  "
            ]
          },
          "metadata": {},
          "execution_count": 5
        }
      ]
    },
    {
      "cell_type": "markdown",
      "source": [
        "Verificando abaixo o resumo estatístico, por meio do método describe(), podemos confirmar que as variáveis relativas aos componentes principais (transformação PCA) não têm nenhuma discrepância aparente, bem como a coluna Time.\n",
        "\n",
        "Em relação à variável Amount, nota-se que o valor médio de transações (considerando ambas as classes) é 88.61, mediana igual a 22.00 e desvio padrão de 247.65. Atingindo o valor máximo de 19656.53, a maioria das transações financeiras é composta em sua maioria por quantias menores - como esperado."
      ],
      "metadata": {
        "id": "9eZ4aj8khAT7"
      }
    },
    {
      "cell_type": "code",
      "source": [
        "# ver o resumo estatístico\n",
        "df.describe()"
      ],
      "metadata": {
        "colab": {
          "base_uri": "https://localhost:8080/",
          "height": 394
        },
        "id": "Gg0paS-rhA0j",
        "outputId": "f10ab61e-abc7-4c10-c04c-cd02291c19ad"
      },
      "execution_count": null,
      "outputs": [
        {
          "output_type": "execute_result",
          "data": {
            "text/plain": [
              "                Time             V1             V2             V3  \\\n",
              "count  242086.000000  242086.000000  242086.000000  242086.000000   \n",
              "mean    94857.597379       0.001456      -0.000800      -0.001004   \n",
              "std     47490.660832       1.956513       1.654883       1.514580   \n",
              "min         0.000000     -56.407510     -72.715728     -33.680984   \n",
              "25%     54234.000000      -0.920406      -0.598659      -0.893374   \n",
              "50%     84747.000000       0.019230       0.064567       0.177607   \n",
              "75%    139362.000000       1.316034       0.803174       1.026561   \n",
              "max    172792.000000       2.451888      22.057729       9.382558   \n",
              "\n",
              "                  V4             V5             V6             V7  \\\n",
              "count  242086.000000  242086.000000  242086.000000  242086.000000   \n",
              "mean        0.000647      -0.000986      -0.001196      -0.000033   \n",
              "std         1.417228       1.366284       1.326879       1.223095   \n",
              "min        -5.683171     -42.147898     -26.160506     -43.557242   \n",
              "25%        -0.848236      -0.693615      -0.769025      -0.553805   \n",
              "50%        -0.018959      -0.054544      -0.274310       0.040344   \n",
              "75%         0.743691       0.611455       0.397688       0.570104   \n",
              "max        16.875344      34.801666      23.917837      44.054461   \n",
              "\n",
              "                  V8             V9  ...            V21            V22  \\\n",
              "count  242086.000000  242086.000000  ...  242086.000000  242086.000000   \n",
              "mean       -0.000416      -0.000725  ...      -0.000015       0.000606   \n",
              "std         1.199718       1.099350  ...       0.734189       0.726284   \n",
              "min       -73.216718     -13.434066  ...     -34.830382     -10.933144   \n",
              "25%        -0.208857      -0.645058  ...      -0.228492      -0.542962   \n",
              "50%         0.022160      -0.051370  ...      -0.028987       0.007162   \n",
              "75%         0.327186       0.597195  ...       0.187064       0.529814   \n",
              "max        20.007208      15.594995  ...      27.202839      10.503090   \n",
              "\n",
              "                 V23            V24            V25            V26  \\\n",
              "count  242086.000000  242086.000000  242086.000000  242086.000000   \n",
              "mean       -0.000482       0.000199       0.000048      -0.000269   \n",
              "std         0.629651       0.605150       0.521574       0.482084   \n",
              "min       -44.807735      -2.822684     -10.295397      -2.604551   \n",
              "25%        -0.161941      -0.354494      -0.316853      -0.327387   \n",
              "50%        -0.011175       0.040764       0.017175      -0.052337   \n",
              "75%         0.147358       0.439320       0.350795       0.241214   \n",
              "max        22.528412       4.022866       7.519589       3.517346   \n",
              "\n",
              "                 V27            V28         Amount          Class  \n",
              "count  242086.000000  242086.000000  242086.000000  242086.000000  \n",
              "mean       -0.000727       0.000065      88.612429       0.001727  \n",
              "std         0.401490       0.327734     247.655020       0.041517  \n",
              "min       -22.565679     -11.710896       0.000000       0.000000  \n",
              "25%        -0.070744      -0.052903       5.662500       0.000000  \n",
              "50%         0.001131       0.011209      22.000000       0.000000  \n",
              "75%         0.090776       0.078234      77.580000       0.000000  \n",
              "max        12.152401      33.847808   19656.530000       1.000000  \n",
              "\n",
              "[8 rows x 31 columns]"
            ],
            "text/html": [
              "\n",
              "  <div id=\"df-2c652c15-7667-44fb-9e8d-097056122b40\">\n",
              "    <div class=\"colab-df-container\">\n",
              "      <div>\n",
              "<style scoped>\n",
              "    .dataframe tbody tr th:only-of-type {\n",
              "        vertical-align: middle;\n",
              "    }\n",
              "\n",
              "    .dataframe tbody tr th {\n",
              "        vertical-align: top;\n",
              "    }\n",
              "\n",
              "    .dataframe thead th {\n",
              "        text-align: right;\n",
              "    }\n",
              "</style>\n",
              "<table border=\"1\" class=\"dataframe\">\n",
              "  <thead>\n",
              "    <tr style=\"text-align: right;\">\n",
              "      <th></th>\n",
              "      <th>Time</th>\n",
              "      <th>V1</th>\n",
              "      <th>V2</th>\n",
              "      <th>V3</th>\n",
              "      <th>V4</th>\n",
              "      <th>V5</th>\n",
              "      <th>V6</th>\n",
              "      <th>V7</th>\n",
              "      <th>V8</th>\n",
              "      <th>V9</th>\n",
              "      <th>...</th>\n",
              "      <th>V21</th>\n",
              "      <th>V22</th>\n",
              "      <th>V23</th>\n",
              "      <th>V24</th>\n",
              "      <th>V25</th>\n",
              "      <th>V26</th>\n",
              "      <th>V27</th>\n",
              "      <th>V28</th>\n",
              "      <th>Amount</th>\n",
              "      <th>Class</th>\n",
              "    </tr>\n",
              "  </thead>\n",
              "  <tbody>\n",
              "    <tr>\n",
              "      <th>count</th>\n",
              "      <td>242086.000000</td>\n",
              "      <td>242086.000000</td>\n",
              "      <td>242086.000000</td>\n",
              "      <td>242086.000000</td>\n",
              "      <td>242086.000000</td>\n",
              "      <td>242086.000000</td>\n",
              "      <td>242086.000000</td>\n",
              "      <td>242086.000000</td>\n",
              "      <td>242086.000000</td>\n",
              "      <td>242086.000000</td>\n",
              "      <td>...</td>\n",
              "      <td>242086.000000</td>\n",
              "      <td>242086.000000</td>\n",
              "      <td>242086.000000</td>\n",
              "      <td>242086.000000</td>\n",
              "      <td>242086.000000</td>\n",
              "      <td>242086.000000</td>\n",
              "      <td>242086.000000</td>\n",
              "      <td>242086.000000</td>\n",
              "      <td>242086.000000</td>\n",
              "      <td>242086.000000</td>\n",
              "    </tr>\n",
              "    <tr>\n",
              "      <th>mean</th>\n",
              "      <td>94857.597379</td>\n",
              "      <td>0.001456</td>\n",
              "      <td>-0.000800</td>\n",
              "      <td>-0.001004</td>\n",
              "      <td>0.000647</td>\n",
              "      <td>-0.000986</td>\n",
              "      <td>-0.001196</td>\n",
              "      <td>-0.000033</td>\n",
              "      <td>-0.000416</td>\n",
              "      <td>-0.000725</td>\n",
              "      <td>...</td>\n",
              "      <td>-0.000015</td>\n",
              "      <td>0.000606</td>\n",
              "      <td>-0.000482</td>\n",
              "      <td>0.000199</td>\n",
              "      <td>0.000048</td>\n",
              "      <td>-0.000269</td>\n",
              "      <td>-0.000727</td>\n",
              "      <td>0.000065</td>\n",
              "      <td>88.612429</td>\n",
              "      <td>0.001727</td>\n",
              "    </tr>\n",
              "    <tr>\n",
              "      <th>std</th>\n",
              "      <td>47490.660832</td>\n",
              "      <td>1.956513</td>\n",
              "      <td>1.654883</td>\n",
              "      <td>1.514580</td>\n",
              "      <td>1.417228</td>\n",
              "      <td>1.366284</td>\n",
              "      <td>1.326879</td>\n",
              "      <td>1.223095</td>\n",
              "      <td>1.199718</td>\n",
              "      <td>1.099350</td>\n",
              "      <td>...</td>\n",
              "      <td>0.734189</td>\n",
              "      <td>0.726284</td>\n",
              "      <td>0.629651</td>\n",
              "      <td>0.605150</td>\n",
              "      <td>0.521574</td>\n",
              "      <td>0.482084</td>\n",
              "      <td>0.401490</td>\n",
              "      <td>0.327734</td>\n",
              "      <td>247.655020</td>\n",
              "      <td>0.041517</td>\n",
              "    </tr>\n",
              "    <tr>\n",
              "      <th>min</th>\n",
              "      <td>0.000000</td>\n",
              "      <td>-56.407510</td>\n",
              "      <td>-72.715728</td>\n",
              "      <td>-33.680984</td>\n",
              "      <td>-5.683171</td>\n",
              "      <td>-42.147898</td>\n",
              "      <td>-26.160506</td>\n",
              "      <td>-43.557242</td>\n",
              "      <td>-73.216718</td>\n",
              "      <td>-13.434066</td>\n",
              "      <td>...</td>\n",
              "      <td>-34.830382</td>\n",
              "      <td>-10.933144</td>\n",
              "      <td>-44.807735</td>\n",
              "      <td>-2.822684</td>\n",
              "      <td>-10.295397</td>\n",
              "      <td>-2.604551</td>\n",
              "      <td>-22.565679</td>\n",
              "      <td>-11.710896</td>\n",
              "      <td>0.000000</td>\n",
              "      <td>0.000000</td>\n",
              "    </tr>\n",
              "    <tr>\n",
              "      <th>25%</th>\n",
              "      <td>54234.000000</td>\n",
              "      <td>-0.920406</td>\n",
              "      <td>-0.598659</td>\n",
              "      <td>-0.893374</td>\n",
              "      <td>-0.848236</td>\n",
              "      <td>-0.693615</td>\n",
              "      <td>-0.769025</td>\n",
              "      <td>-0.553805</td>\n",
              "      <td>-0.208857</td>\n",
              "      <td>-0.645058</td>\n",
              "      <td>...</td>\n",
              "      <td>-0.228492</td>\n",
              "      <td>-0.542962</td>\n",
              "      <td>-0.161941</td>\n",
              "      <td>-0.354494</td>\n",
              "      <td>-0.316853</td>\n",
              "      <td>-0.327387</td>\n",
              "      <td>-0.070744</td>\n",
              "      <td>-0.052903</td>\n",
              "      <td>5.662500</td>\n",
              "      <td>0.000000</td>\n",
              "    </tr>\n",
              "    <tr>\n",
              "      <th>50%</th>\n",
              "      <td>84747.000000</td>\n",
              "      <td>0.019230</td>\n",
              "      <td>0.064567</td>\n",
              "      <td>0.177607</td>\n",
              "      <td>-0.018959</td>\n",
              "      <td>-0.054544</td>\n",
              "      <td>-0.274310</td>\n",
              "      <td>0.040344</td>\n",
              "      <td>0.022160</td>\n",
              "      <td>-0.051370</td>\n",
              "      <td>...</td>\n",
              "      <td>-0.028987</td>\n",
              "      <td>0.007162</td>\n",
              "      <td>-0.011175</td>\n",
              "      <td>0.040764</td>\n",
              "      <td>0.017175</td>\n",
              "      <td>-0.052337</td>\n",
              "      <td>0.001131</td>\n",
              "      <td>0.011209</td>\n",
              "      <td>22.000000</td>\n",
              "      <td>0.000000</td>\n",
              "    </tr>\n",
              "    <tr>\n",
              "      <th>75%</th>\n",
              "      <td>139362.000000</td>\n",
              "      <td>1.316034</td>\n",
              "      <td>0.803174</td>\n",
              "      <td>1.026561</td>\n",
              "      <td>0.743691</td>\n",
              "      <td>0.611455</td>\n",
              "      <td>0.397688</td>\n",
              "      <td>0.570104</td>\n",
              "      <td>0.327186</td>\n",
              "      <td>0.597195</td>\n",
              "      <td>...</td>\n",
              "      <td>0.187064</td>\n",
              "      <td>0.529814</td>\n",
              "      <td>0.147358</td>\n",
              "      <td>0.439320</td>\n",
              "      <td>0.350795</td>\n",
              "      <td>0.241214</td>\n",
              "      <td>0.090776</td>\n",
              "      <td>0.078234</td>\n",
              "      <td>77.580000</td>\n",
              "      <td>0.000000</td>\n",
              "    </tr>\n",
              "    <tr>\n",
              "      <th>max</th>\n",
              "      <td>172792.000000</td>\n",
              "      <td>2.451888</td>\n",
              "      <td>22.057729</td>\n",
              "      <td>9.382558</td>\n",
              "      <td>16.875344</td>\n",
              "      <td>34.801666</td>\n",
              "      <td>23.917837</td>\n",
              "      <td>44.054461</td>\n",
              "      <td>20.007208</td>\n",
              "      <td>15.594995</td>\n",
              "      <td>...</td>\n",
              "      <td>27.202839</td>\n",
              "      <td>10.503090</td>\n",
              "      <td>22.528412</td>\n",
              "      <td>4.022866</td>\n",
              "      <td>7.519589</td>\n",
              "      <td>3.517346</td>\n",
              "      <td>12.152401</td>\n",
              "      <td>33.847808</td>\n",
              "      <td>19656.530000</td>\n",
              "      <td>1.000000</td>\n",
              "    </tr>\n",
              "  </tbody>\n",
              "</table>\n",
              "<p>8 rows × 31 columns</p>\n",
              "</div>\n",
              "      <button class=\"colab-df-convert\" onclick=\"convertToInteractive('df-2c652c15-7667-44fb-9e8d-097056122b40')\"\n",
              "              title=\"Convert this dataframe to an interactive table.\"\n",
              "              style=\"display:none;\">\n",
              "        \n",
              "  <svg xmlns=\"http://www.w3.org/2000/svg\" height=\"24px\"viewBox=\"0 0 24 24\"\n",
              "       width=\"24px\">\n",
              "    <path d=\"M0 0h24v24H0V0z\" fill=\"none\"/>\n",
              "    <path d=\"M18.56 5.44l.94 2.06.94-2.06 2.06-.94-2.06-.94-.94-2.06-.94 2.06-2.06.94zm-11 1L8.5 8.5l.94-2.06 2.06-.94-2.06-.94L8.5 2.5l-.94 2.06-2.06.94zm10 10l.94 2.06.94-2.06 2.06-.94-2.06-.94-.94-2.06-.94 2.06-2.06.94z\"/><path d=\"M17.41 7.96l-1.37-1.37c-.4-.4-.92-.59-1.43-.59-.52 0-1.04.2-1.43.59L10.3 9.45l-7.72 7.72c-.78.78-.78 2.05 0 2.83L4 21.41c.39.39.9.59 1.41.59.51 0 1.02-.2 1.41-.59l7.78-7.78 2.81-2.81c.8-.78.8-2.07 0-2.86zM5.41 20L4 18.59l7.72-7.72 1.47 1.35L5.41 20z\"/>\n",
              "  </svg>\n",
              "      </button>\n",
              "      \n",
              "  <style>\n",
              "    .colab-df-container {\n",
              "      display:flex;\n",
              "      flex-wrap:wrap;\n",
              "      gap: 12px;\n",
              "    }\n",
              "\n",
              "    .colab-df-convert {\n",
              "      background-color: #E8F0FE;\n",
              "      border: none;\n",
              "      border-radius: 50%;\n",
              "      cursor: pointer;\n",
              "      display: none;\n",
              "      fill: #1967D2;\n",
              "      height: 32px;\n",
              "      padding: 0 0 0 0;\n",
              "      width: 32px;\n",
              "    }\n",
              "\n",
              "    .colab-df-convert:hover {\n",
              "      background-color: #E2EBFA;\n",
              "      box-shadow: 0px 1px 2px rgba(60, 64, 67, 0.3), 0px 1px 3px 1px rgba(60, 64, 67, 0.15);\n",
              "      fill: #174EA6;\n",
              "    }\n",
              "\n",
              "    [theme=dark] .colab-df-convert {\n",
              "      background-color: #3B4455;\n",
              "      fill: #D2E3FC;\n",
              "    }\n",
              "\n",
              "    [theme=dark] .colab-df-convert:hover {\n",
              "      background-color: #434B5C;\n",
              "      box-shadow: 0px 1px 3px 1px rgba(0, 0, 0, 0.15);\n",
              "      filter: drop-shadow(0px 1px 2px rgba(0, 0, 0, 0.3));\n",
              "      fill: #FFFFFF;\n",
              "    }\n",
              "  </style>\n",
              "\n",
              "      <script>\n",
              "        const buttonEl =\n",
              "          document.querySelector('#df-2c652c15-7667-44fb-9e8d-097056122b40 button.colab-df-convert');\n",
              "        buttonEl.style.display =\n",
              "          google.colab.kernel.accessAllowed ? 'block' : 'none';\n",
              "\n",
              "        async function convertToInteractive(key) {\n",
              "          const element = document.querySelector('#df-2c652c15-7667-44fb-9e8d-097056122b40');\n",
              "          const dataTable =\n",
              "            await google.colab.kernel.invokeFunction('convertToInteractive',\n",
              "                                                     [key], {});\n",
              "          if (!dataTable) return;\n",
              "\n",
              "          const docLinkHtml = 'Like what you see? Visit the ' +\n",
              "            '<a target=\"_blank\" href=https://colab.research.google.com/notebooks/data_table.ipynb>data table notebook</a>'\n",
              "            + ' to learn more about interactive tables.';\n",
              "          element.innerHTML = '';\n",
              "          dataTable['output_type'] = 'display_data';\n",
              "          await google.colab.output.renderOutput(dataTable, element);\n",
              "          const docLink = document.createElement('div');\n",
              "          docLink.innerHTML = docLinkHtml;\n",
              "          element.appendChild(docLink);\n",
              "        }\n",
              "      </script>\n",
              "    </div>\n",
              "  </div>\n",
              "  "
            ]
          },
          "metadata": {},
          "execution_count": 6
        }
      ]
    },
    {
      "cell_type": "markdown",
      "source": [
        "Quanto à qualidade do dataset, este não apresentou nenhum valor ausente ou que demandasse uma etapa de limpeza. Na função abaixo, perceba que a soma do valores nulos por coluna é zero, o que confirma que não há valores ausentes."
      ],
      "metadata": {
        "id": "ALpyelRahnSz"
      }
    },
    {
      "cell_type": "code",
      "source": [
        "# ver se há valores ausentes\n",
        "df.isnull().sum()"
      ],
      "metadata": {
        "colab": {
          "base_uri": "https://localhost:8080/"
        },
        "id": "apvPgnrkhnxc",
        "outputId": "b4a3ddd7-340f-4ba8-8d5e-d85c3ced3e9b"
      },
      "execution_count": null,
      "outputs": [
        {
          "output_type": "execute_result",
          "data": {
            "text/plain": [
              "Time      0\n",
              "V1        0\n",
              "V2        0\n",
              "V3        0\n",
              "V4        0\n",
              "V5        0\n",
              "V6        0\n",
              "V7        0\n",
              "V8        0\n",
              "V9        0\n",
              "V10       0\n",
              "V11       0\n",
              "V12       0\n",
              "V13       0\n",
              "V14       0\n",
              "V15       0\n",
              "V16       0\n",
              "V17       0\n",
              "V18       0\n",
              "V19       0\n",
              "V20       0\n",
              "V21       0\n",
              "V22       0\n",
              "V23       0\n",
              "V24       0\n",
              "V25       0\n",
              "V26       0\n",
              "V27       0\n",
              "V28       0\n",
              "Amount    0\n",
              "Class     0\n",
              "dtype: int64"
            ]
          },
          "metadata": {},
          "execution_count": 7
        }
      ]
    },
    {
      "cell_type": "markdown",
      "source": [
        "Como é [informado na descrição dos dados](https://www.kaggle.com/mlg-ulb/creditcardfraud), as entradas relativas à transações fraudulentas correspondem a 0,17% do total.\n",
        "\n",
        "O gráfico de barras mostra como essa discrepância se torna nítida e visível. Isso significa que os dados são altamente desequilibrados em relação à variável de destino Class.\n",
        "\n",
        "Na prática, isso interfere no desempenho do modelo, e será necessário fazer um balanceamento dos dados antes de alimentar o modelo final de classificação."
      ],
      "metadata": {
        "id": "yDJlgEYjhw7z"
      }
    },
    {
      "cell_type": "code",
      "source": [
        "# plotar gráfico de barras para as Classes\n",
        "fig, ax = plt.subplots()\n",
        "sns.countplot('Class', data=df, ax=ax, color = \"#253750\")\n",
        "ax.set_title('Distribuição das Classes', fontsize=17, x=0.0, y=1.1, loc=\"left\")\n",
        "plt.suptitle(\"Contagem de casos sem (0) e com (1) fraude\", color = \"gray\", fontsize=12, x=0.125, y=0.95, ha=\"left\")\n",
        "\n",
        "# definindo visibilidade de parâmetros\n",
        "plt.tick_params(axis='x', which='both', bottom=False, top=False, labelbottom=True) \n",
        "plt.tick_params(axis='y', which='both', right=False, left=False, labelleft=False) \n",
        "for pos in ['right', 'top', 'left', 'bottom']: \n",
        "    plt.gca().spines[pos].set_visible(False)\n",
        "\n",
        "#colocando os rótulos\n",
        "for retangulo in ax.patches:\n",
        "  ax.text(retangulo.get_x() + retangulo.get_width() / 2,\n",
        "          retangulo.get_height(),\n",
        "          '{:,}'.format(int(retangulo.get_height())).replace(',','.'), # adicionando o texto da altura\n",
        "          ha = 'center')\n",
        "\n",
        "# definindo labels\n",
        "plt.ylabel('Transações (qtd)')\n",
        "\n",
        "#plotado gráfico\n",
        "plt.plot();"
      ],
      "metadata": {
        "colab": {
          "base_uri": "https://localhost:8080/",
          "height": 321
        },
        "id": "xbtvGFS6hCWT",
        "outputId": "0c017497-e241-41c8-aaba-fd84daf977a0"
      },
      "execution_count": null,
      "outputs": [
        {
          "output_type": "display_data",
          "data": {
            "text/plain": [
              "<Figure size 432x288 with 1 Axes>"
            ],
            "image/png": "[encoded data removed]"
          },
          "metadata": {}
        }
      ]
    },
    {
      "cell_type": "markdown",
      "source": [
        "Plotou-se também dois gráficos, a fim de comparar as distribuições das duas `class` (fraude e normal) ao longo da dimensão tempo vs número de transações.\n",
        "\n",
        "Podemos argumentar que as transações fraudulentas são distribuídas de forma mais uniforme, enquanto as transações normais têm uma distribuição cíclica. Isso pode facilitar a detecção de uma transação fraudulenta em um horário 'fora de pico'.\n",
        "\n",
        "Agora vamos ver se o valor da transação difere entre os dois tipos."
      ],
      "metadata": {
        "id": "St91cfsp4fRC"
      }
    },
    {
      "cell_type": "code",
      "source": [
        "# gerando figuras\n",
        "f, (ax1, ax2) = plt.subplots(2, 1, sharex=False, figsize=(12,4))\n",
        "\n",
        "# definindo número de bins\n",
        "bins = 60\n",
        "\n",
        "# gerando primeiro gráfico\n",
        "ax1.hist(df.Time[df.Class == 1], bins = bins, color = \"#253750\")\n",
        "ax1.set_title('Número de transações fraudulentas ao longo do tempo', fontsize=15, loc=\"left\")\n",
        "\n",
        "# gerando segundo gráfico\n",
        "ax2.hist(df.Time[df.Class == 0], bins = bins, color = \"#253750\")\n",
        "ax2.set_title('Número de transações normais ao longo do tempo', fontsize=15, loc=\"left\")\n",
        "\n",
        "# definindo labels\n",
        "plt.xlabel('Tempo (segundos)')\n",
        "plt.ylabel('Transações (qtd)')\n",
        "\n",
        "# ajustando espaçamento entre gráficos\n",
        "plt.subplots_adjust(hspace=0.7) \n",
        "\n",
        "# plotando o gráfico\n",
        "fig.tight_layout() "
      ],
      "metadata": {
        "id": "_X6cSNRxhx5T",
        "colab": {
          "base_uri": "https://localhost:8080/",
          "height": 298
        },
        "outputId": "142ec55d-5d32-4899-9b49-9a45ca8adece"
      },
      "execution_count": null,
      "outputs": [
        {
          "output_type": "display_data",
          "data": {
            "text/plain": [
              "<Figure size 864x288 with 2 Axes>"
            ],
            "image/png": "[encoded data removed]"
          },
          "metadata": {}
        }
      ]
    },
    {
      "cell_type": "markdown",
      "source": [
        "Seguindo a análise exploratória, foram plotados dois gráficos em que conseguimos visualizar a distribuição dos valores dos tipos de transações. Agora podemos ver se o valor da transação difere entre as transações fraudulentas e normais. \n",
        "\n",
        "A maioria das transações são de pequenas quantias. Já as transações fraudulentas têm um valor máximo muito menor que as transações normais."
      ],
      "metadata": {
        "id": "zVQTLkvfnq4A"
      }
    },
    {
      "cell_type": "code",
      "source": [
        "# gerando figuras\n",
        "f, (ax1, ax2) = plt.subplots(2, 1, sharex=False, figsize=(12,4))\n",
        "\n",
        "# definindo número de bins\n",
        "bins = 30\n",
        "\n",
        "# gerando primeiro gráfico\n",
        "ax1.hist(df.Amount[df.Class == 1], bins = bins, color = \"#253750\")\n",
        "ax1.set_title('Número de transações fraudulentas em relação aos valores', fontsize=15, loc=\"left\")\n",
        "\n",
        "# gerando segundo gráfico\n",
        "ax2.hist(df.Amount[df.Class == 0], bins = bins, color = \"#253750\")\n",
        "ax2.set_title('Número de transações normais em relação aos valores', fontsize=15, loc=\"left\")\n",
        "\n",
        "# definindo labels\n",
        "plt.xlabel('Amount ($)')\n",
        "plt.ylabel('Transações (qtd)')\n",
        "plt.yscale('log')\n",
        "\n",
        "# ajustando espaçamento entre gráficos\n",
        "plt.subplots_adjust(hspace=0.7) \n",
        "\n",
        "# plotando o gráfico\n",
        "fig.tight_layout() "
      ],
      "metadata": {
        "colab": {
          "base_uri": "https://localhost:8080/",
          "height": 298
        },
        "id": "UqIk3PVTouBI",
        "outputId": "1c262abf-6429-4792-88c7-25bd905d4f05"
      },
      "execution_count": null,
      "outputs": [
        {
          "output_type": "display_data",
          "data": {
            "text/plain": [
              "<Figure size 864x288 with 2 Axes>"
            ],
            "image/png": "[encoded data removed]"
          },
          "metadata": {}
        }
      ]
    },
    {
      "cell_type": "markdown",
      "source": [
        "Seguindo a análise exploratória, plotou-se dois gráficos de dispersão a fim de analisar se há alguma diferença no padrão das transações ao longo do tempo em relação à dimensão `Amount`.\n",
        "\n",
        "Como pode ser visto, as transações fraudulentas e normais estão ocorrendo de forma bastante aleatória ao longo do tempo.\n",
        "\n",
        "Também podemos observar que não há transações fraudulentas acima de 2500.\n"
      ],
      "metadata": {
        "id": "qUV5UJL4Fg0V"
      }
    },
    {
      "cell_type": "code",
      "source": [
        "# gerando figuras\n",
        "f, (ax1, ax2) = plt.subplots(2, 1, sharex=True, figsize=(12,6))\n",
        "\n",
        "# gerando primeiro gráfico\n",
        "ax1.scatter(df.Time[df.Class == 1], df.Amount[df.Class == 1], color = \"#253750\", s=2)\n",
        "ax1.set_title('Valor das transações fraudulentas ao longo do tempo', fontsize=15, loc=\"left\")\n",
        "\n",
        "# gerando segundo gráfico\n",
        "ax2.scatter(df.Time[df.Class == 0], df.Amount[df.Class == 0], color = \"#253750\", s=2)\n",
        "ax2.set_title('Valor das transações normais ao longo do tempo', fontsize=15, loc=\"left\")\n",
        "\n",
        "# definindo labels\n",
        "plt.xlabel('Tempo (segundos)')\n",
        "plt.ylabel('Amount ($)')\n",
        "\n",
        "# ajustando espaçamento entre gráficos\n",
        "plt.subplots_adjust(hspace=0.2) \n",
        "\n",
        "# plotando o gráfico\n",
        "fig.tight_layout() "
      ],
      "metadata": {
        "colab": {
          "base_uri": "https://localhost:8080/",
          "height": 406
        },
        "id": "aX32XQSv4eWy",
        "outputId": "8c191455-f13e-46b2-c6e7-12bdfdbe4a8e"
      },
      "execution_count": null,
      "outputs": [
        {
          "output_type": "display_data",
          "data": {
            "text/plain": [
              "<Figure size 864x432 with 2 Axes>"
            ],
            "image/png": "[encoded data removed]"
          },
          "metadata": {}
        }
      ]
    },
    {
      "cell_type": "markdown",
      "source": [
        "Outro ponto interessante à ser tratado nesta análise exploratória, é o gráfico de densidade que é muito útil para compararmos as distribuições de cada variável para cada classe e ver quais as mais importantes para detecção de anomalias.\n",
        "\n",
        "O que se procura nesse tipo de visualização são distribuições que diferem uma da outra, permitindo identificar fraudes mais facilmente. Veja como exemplo as variáveis `V3`, `V4`, `V10` e `V11`, como elas são bem distintas.\n",
        "\n",
        "Por outro lado, variáveis como por exemplo `V8`, `V13` e `V15` são muito similares, apresentando aproximadamente o mesmo comportamento."
      ],
      "metadata": {
        "id": "xzlB40mZLdQS"
      }
    },
    {
      "cell_type": "code",
      "source": [
        "# organizando dados\n",
        "column_names = df.drop(['Class', 'Amount', 'Time'], axis=1).columns\n",
        "num_plots = len(column_names)\n",
        "df_class_0 = df[df.Class == 0]\n",
        "df_class_1 = df[df.Class == 1]\n",
        "\n",
        "# gerando gráfico\n",
        "fig, ax = plt.subplots(nrows=7, ncols=4, figsize=(15,15))\n",
        "fig.subplots_adjust(hspace=1, wspace=1)\n",
        "\n",
        "idx = 0\n",
        "for col in column_names:\n",
        "    idx += 1\n",
        "    plt.subplot(7, 4, idx)\n",
        "    sns.kdeplot(df_class_0[col], label=\"Class 0\", shade=True)\n",
        "    sns.kdeplot(df_class_1[col], label=\"Class 1\", shade=True)\n",
        "    plt.title(col, fontsize=10)\n",
        "\n",
        "# plotando gráfico\n",
        "plt.tight_layout()"
      ],
      "metadata": {
        "colab": {
          "base_uri": "https://localhost:8080/",
          "height": 1000
        },
        "id": "crgGq4k04ef5",
        "outputId": "e5c1ef91-eaa7-4780-bb13-b45244d46ffa"
      },
      "execution_count": null,
      "outputs": [
        {
          "output_type": "display_data",
          "data": {
            "text/plain": [
              "<Figure size 1080x1080 with 28 Axes>"
            ],
            "image/png": "[encoded data removed]"
          },
          "metadata": {}
        }
      ]
    },
    {
      "cell_type": "markdown",
      "source": [
        "Resumidamente, algumas observações principais que puderam ser extraídas dessa etapa exploratória foram:\n",
        "\n",
        "* O *dataset* está muito desbalanceado, uma vez que as transações fraudulentas representam apenas 0,17% das entradas totais;\n",
        "* Não existem valores ausentes ou nulos no *dataframe*;\n",
        "* Uma vez que a PCA é sensível à escala das variáveis, assume-se a premissa de que as *features* originais foram padronizadas;\n",
        "* O número de transações normais ao longo do tempo, assim o valor máximo das transações fraudulentas, apresentam um padrão de comportamento; \n",
        "* As colunas `Time` e `Amount` não estão normalizadas."
      ],
      "metadata": {
        "id": "3k0_gFgWL86q"
      }
    },
    {
      "cell_type": "markdown",
      "metadata": {
        "id": "ULe7z0jZt0EH"
      },
      "source": [
        "## Preparando os dados para os modelos"
      ]
    },
    {
      "cell_type": "markdown",
      "source": [
        "Para que os dados possam alimentar os modelos de Machine Learning que iremos construir, nesta etapa de preparação vamos desenvolver os seguintes etapas:\n",
        "\n",
        "* Padronizar as *features* `Time` e `Amount`, que estão em outra ordem de grandeza;\n",
        "* Dividir entre dados de treino e teste;\n",
        "* Balancear os dados a fim de evitar uma baixa performance para a classe 1 e *overfitting*."
      ],
      "metadata": {
        "id": "L8mC0l7Zd973"
      }
    },
    {
      "cell_type": "markdown",
      "source": [
        "**Padronizar `Time` e `Amount`**\n",
        "\n",
        "Para esta etapa, uma vez que a coluna `Amount` possui *outliers*, será usada a padronização por meio da classe `StandardScaler`."
      ],
      "metadata": {
        "id": "wQp8kPOdudfG"
      }
    },
    {
      "cell_type": "code",
      "metadata": {
        "id": "IqfjG_SUSTi-",
        "colab": {
          "base_uri": "https://localhost:8080/",
          "height": 236
        },
        "outputId": "d48bfd67-4848-4c75-e5c3-6a620882fc29"
      },
      "source": [
        "# padronizar as colunas Time e Amount\n",
        "df_clean = df.copy()\n",
        "\n",
        "# padronizando valores e substuindo nomes das colunas\n",
        "std_scaler = StandardScaler()\n",
        "df_clean['std_amount'] = std_scaler.fit_transform(df_clean['Amount'].values.reshape(-1, 1))\n",
        "df_clean['std_time'] = std_scaler.fit_transform(df_clean['Time'].values.reshape(-1, 1))\n",
        "\n",
        "# removendo colunas descontinuadas\n",
        "df_clean.drop(['Time', 'Amount'], axis=1, inplace=True)\n",
        "\n",
        "# ver as primeiras entradas\n",
        "df_clean.head()"
      ],
      "execution_count": null,
      "outputs": [
        {
          "output_type": "execute_result",
          "data": {
            "text/plain": [
              "         V1        V2        V3        V4        V5        V6        V7  \\\n",
              "0 -1.359807 -0.072781  2.536347  1.378155 -0.338321  0.462388  0.239599   \n",
              "1  1.191857  0.266151  0.166480  0.448154  0.060018 -0.082361 -0.078803   \n",
              "2 -1.358354 -1.340163  1.773209  0.379780 -0.503198  1.800499  0.791461   \n",
              "3 -0.966272 -0.185226  1.792993 -0.863291 -0.010309  1.247203  0.237609   \n",
              "4 -1.158233  0.877737  1.548718  0.403034 -0.407193  0.095921  0.592941   \n",
              "\n",
              "         V8        V9       V10  ...       V22       V23       V24       V25  \\\n",
              "0  0.098698  0.363787  0.090794  ...  0.277838 -0.110474  0.066928  0.128539   \n",
              "1  0.085102 -0.255425 -0.166974  ... -0.638672  0.101288 -0.339846  0.167170   \n",
              "2  0.247676 -1.514654  0.207643  ...  0.771679  0.909412 -0.689281 -0.327642   \n",
              "3  0.377436 -1.387024 -0.054952  ...  0.005274 -0.190321 -1.175575  0.647376   \n",
              "4 -0.270533  0.817739  0.753074  ...  0.798278 -0.137458  0.141267 -0.206010   \n",
              "\n",
              "        V26       V27       V28  Class  std_amount  std_time  \n",
              "0 -0.189115  0.133558 -0.021053      0    0.246341 -1.997399  \n",
              "1  0.125895 -0.008983  0.014724      0   -0.346945 -1.997399  \n",
              "2 -0.139097 -0.055353 -0.059752      0    1.171178 -1.997378  \n",
              "3 -0.221929  0.062723  0.061458      0    0.140872 -1.997378  \n",
              "4  0.502292  0.219422  0.215153      0   -0.075195 -1.997357  \n",
              "\n",
              "[5 rows x 31 columns]"
            ],
            "text/html": [
              "\n",
              "  <div id=\"df-039ac19a-a6f4-46fe-b46a-b3a732ab3554\">\n",
              "    <div class=\"colab-df-container\">\n",
              "      <div>\n",
              "<style scoped>\n",
              "    .dataframe tbody tr th:only-of-type {\n",
              "        vertical-align: middle;\n",
              "    }\n",
              "\n",
              "    .dataframe tbody tr th {\n",
              "        vertical-align: top;\n",
              "    }\n",
              "\n",
              "    .dataframe thead th {\n",
              "        text-align: right;\n",
              "    }\n",
              "</style>\n",
              "<table border=\"1\" class=\"dataframe\">\n",
              "  <thead>\n",
              "    <tr style=\"text-align: right;\">\n",
              "      <th></th>\n",
              "      <th>V1</th>\n",
              "      <th>V2</th>\n",
              "      <th>V3</th>\n",
              "      <th>V4</th>\n",
              "      <th>V5</th>\n",
              "      <th>V6</th>\n",
              "      <th>V7</th>\n",
              "      <th>V8</th>\n",
              "      <th>V9</th>\n",
              "      <th>V10</th>\n",
              "      <th>...</th>\n",
              "      <th>V22</th>\n",
              "      <th>V23</th>\n",
              "      <th>V24</th>\n",
              "      <th>V25</th>\n",
              "      <th>V26</th>\n",
              "      <th>V27</th>\n",
              "      <th>V28</th>\n",
              "      <th>Class</th>\n",
              "      <th>std_amount</th>\n",
              "      <th>std_time</th>\n",
              "    </tr>\n",
              "  </thead>\n",
              "  <tbody>\n",
              "    <tr>\n",
              "      <th>0</th>\n",
              "      <td>-1.359807</td>\n",
              "      <td>-0.072781</td>\n",
              "      <td>2.536347</td>\n",
              "      <td>1.378155</td>\n",
              "      <td>-0.338321</td>\n",
              "      <td>0.462388</td>\n",
              "      <td>0.239599</td>\n",
              "      <td>0.098698</td>\n",
              "      <td>0.363787</td>\n",
              "      <td>0.090794</td>\n",
              "      <td>...</td>\n",
              "      <td>0.277838</td>\n",
              "      <td>-0.110474</td>\n",
              "      <td>0.066928</td>\n",
              "      <td>0.128539</td>\n",
              "      <td>-0.189115</td>\n",
              "      <td>0.133558</td>\n",
              "      <td>-0.021053</td>\n",
              "      <td>0</td>\n",
              "      <td>0.246341</td>\n",
              "      <td>-1.997399</td>\n",
              "    </tr>\n",
              "    <tr>\n",
              "      <th>1</th>\n",
              "      <td>1.191857</td>\n",
              "      <td>0.266151</td>\n",
              "      <td>0.166480</td>\n",
              "      <td>0.448154</td>\n",
              "      <td>0.060018</td>\n",
              "      <td>-0.082361</td>\n",
              "      <td>-0.078803</td>\n",
              "      <td>0.085102</td>\n",
              "      <td>-0.255425</td>\n",
              "      <td>-0.166974</td>\n",
              "      <td>...</td>\n",
              "      <td>-0.638672</td>\n",
              "      <td>0.101288</td>\n",
              "      <td>-0.339846</td>\n",
              "      <td>0.167170</td>\n",
              "      <td>0.125895</td>\n",
              "      <td>-0.008983</td>\n",
              "      <td>0.014724</td>\n",
              "      <td>0</td>\n",
              "      <td>-0.346945</td>\n",
              "      <td>-1.997399</td>\n",
              "    </tr>\n",
              "    <tr>\n",
              "      <th>2</th>\n",
              "      <td>-1.358354</td>\n",
              "      <td>-1.340163</td>\n",
              "      <td>1.773209</td>\n",
              "      <td>0.379780</td>\n",
              "      <td>-0.503198</td>\n",
              "      <td>1.800499</td>\n",
              "      <td>0.791461</td>\n",
              "      <td>0.247676</td>\n",
              "      <td>-1.514654</td>\n",
              "      <td>0.207643</td>\n",
              "      <td>...</td>\n",
              "      <td>0.771679</td>\n",
              "      <td>0.909412</td>\n",
              "      <td>-0.689281</td>\n",
              "      <td>-0.327642</td>\n",
              "      <td>-0.139097</td>\n",
              "      <td>-0.055353</td>\n",
              "      <td>-0.059752</td>\n",
              "      <td>0</td>\n",
              "      <td>1.171178</td>\n",
              "      <td>-1.997378</td>\n",
              "    </tr>\n",
              "    <tr>\n",
              "      <th>3</th>\n",
              "      <td>-0.966272</td>\n",
              "      <td>-0.185226</td>\n",
              "      <td>1.792993</td>\n",
              "      <td>-0.863291</td>\n",
              "      <td>-0.010309</td>\n",
              "      <td>1.247203</td>\n",
              "      <td>0.237609</td>\n",
              "      <td>0.377436</td>\n",
              "      <td>-1.387024</td>\n",
              "      <td>-0.054952</td>\n",
              "      <td>...</td>\n",
              "      <td>0.005274</td>\n",
              "      <td>-0.190321</td>\n",
              "      <td>-1.175575</td>\n",
              "      <td>0.647376</td>\n",
              "      <td>-0.221929</td>\n",
              "      <td>0.062723</td>\n",
              "      <td>0.061458</td>\n",
              "      <td>0</td>\n",
              "      <td>0.140872</td>\n",
              "      <td>-1.997378</td>\n",
              "    </tr>\n",
              "    <tr>\n",
              "      <th>4</th>\n",
              "      <td>-1.158233</td>\n",
              "      <td>0.877737</td>\n",
              "      <td>1.548718</td>\n",
              "      <td>0.403034</td>\n",
              "      <td>-0.407193</td>\n",
              "      <td>0.095921</td>\n",
              "      <td>0.592941</td>\n",
              "      <td>-0.270533</td>\n",
              "      <td>0.817739</td>\n",
              "      <td>0.753074</td>\n",
              "      <td>...</td>\n",
              "      <td>0.798278</td>\n",
              "      <td>-0.137458</td>\n",
              "      <td>0.141267</td>\n",
              "      <td>-0.206010</td>\n",
              "      <td>0.502292</td>\n",
              "      <td>0.219422</td>\n",
              "      <td>0.215153</td>\n",
              "      <td>0</td>\n",
              "      <td>-0.075195</td>\n",
              "      <td>-1.997357</td>\n",
              "    </tr>\n",
              "  </tbody>\n",
              "</table>\n",
              "<p>5 rows × 31 columns</p>\n",
              "</div>\n",
              "      <button class=\"colab-df-convert\" onclick=\"convertToInteractive('df-039ac19a-a6f4-46fe-b46a-b3a732ab3554')\"\n",
              "              title=\"Convert this dataframe to an interactive table.\"\n",
              "              style=\"display:none;\">\n",
              "        \n",
              "  <svg xmlns=\"http://www.w3.org/2000/svg\" height=\"24px\"viewBox=\"0 0 24 24\"\n",
              "       width=\"24px\">\n",
              "    <path d=\"M0 0h24v24H0V0z\" fill=\"none\"/>\n",
              "    <path d=\"M18.56 5.44l.94 2.06.94-2.06 2.06-.94-2.06-.94-.94-2.06-.94 2.06-2.06.94zm-11 1L8.5 8.5l.94-2.06 2.06-.94-2.06-.94L8.5 2.5l-.94 2.06-2.06.94zm10 10l.94 2.06.94-2.06 2.06-.94-2.06-.94-.94-2.06-.94 2.06-2.06.94z\"/><path d=\"M17.41 7.96l-1.37-1.37c-.4-.4-.92-.59-1.43-.59-.52 0-1.04.2-1.43.59L10.3 9.45l-7.72 7.72c-.78.78-.78 2.05 0 2.83L4 21.41c.39.39.9.59 1.41.59.51 0 1.02-.2 1.41-.59l7.78-7.78 2.81-2.81c.8-.78.8-2.07 0-2.86zM5.41 20L4 18.59l7.72-7.72 1.47 1.35L5.41 20z\"/>\n",
              "  </svg>\n",
              "      </button>\n",
              "      \n",
              "  <style>\n",
              "    .colab-df-container {\n",
              "      display:flex;\n",
              "      flex-wrap:wrap;\n",
              "      gap: 12px;\n",
              "    }\n",
              "\n",
              "    .colab-df-convert {\n",
              "      background-color: #E8F0FE;\n",
              "      border: none;\n",
              "      border-radius: 50%;\n",
              "      cursor: pointer;\n",
              "      display: none;\n",
              "      fill: #1967D2;\n",
              "      height: 32px;\n",
              "      padding: 0 0 0 0;\n",
              "      width: 32px;\n",
              "    }\n",
              "\n",
              "    .colab-df-convert:hover {\n",
              "      background-color: #E2EBFA;\n",
              "      box-shadow: 0px 1px 2px rgba(60, 64, 67, 0.3), 0px 1px 3px 1px rgba(60, 64, 67, 0.15);\n",
              "      fill: #174EA6;\n",
              "    }\n",
              "\n",
              "    [theme=dark] .colab-df-convert {\n",
              "      background-color: #3B4455;\n",
              "      fill: #D2E3FC;\n",
              "    }\n",
              "\n",
              "    [theme=dark] .colab-df-convert:hover {\n",
              "      background-color: #434B5C;\n",
              "      box-shadow: 0px 1px 3px 1px rgba(0, 0, 0, 0.15);\n",
              "      filter: drop-shadow(0px 1px 2px rgba(0, 0, 0, 0.3));\n",
              "      fill: #FFFFFF;\n",
              "    }\n",
              "  </style>\n",
              "\n",
              "      <script>\n",
              "        const buttonEl =\n",
              "          document.querySelector('#df-039ac19a-a6f4-46fe-b46a-b3a732ab3554 button.colab-df-convert');\n",
              "        buttonEl.style.display =\n",
              "          google.colab.kernel.accessAllowed ? 'block' : 'none';\n",
              "\n",
              "        async function convertToInteractive(key) {\n",
              "          const element = document.querySelector('#df-039ac19a-a6f4-46fe-b46a-b3a732ab3554');\n",
              "          const dataTable =\n",
              "            await google.colab.kernel.invokeFunction('convertToInteractive',\n",
              "                                                     [key], {});\n",
              "          if (!dataTable) return;\n",
              "\n",
              "          const docLinkHtml = 'Like what you see? Visit the ' +\n",
              "            '<a target=\"_blank\" href=https://colab.research.google.com/notebooks/data_table.ipynb>data table notebook</a>'\n",
              "            + ' to learn more about interactive tables.';\n",
              "          element.innerHTML = '';\n",
              "          dataTable['output_type'] = 'display_data';\n",
              "          await google.colab.output.renderOutput(dataTable, element);\n",
              "          const docLink = document.createElement('div');\n",
              "          docLink.innerHTML = docLinkHtml;\n",
              "          element.appendChild(docLink);\n",
              "        }\n",
              "      </script>\n",
              "    </div>\n",
              "  </div>\n",
              "  "
            ]
          },
          "metadata": {},
          "execution_count": 13
        }
      ]
    },
    {
      "cell_type": "markdown",
      "source": [
        "**Dividir entre conjuntos de Treino e Validação**\n",
        "\n",
        "Antes de proceder com o balanceamento de dados, devemos splitar os dados já existentes entre Treino e Validação. Caso contrário, não teremos parâmetros para conferir se o balanceamento foi adequado.\n",
        "\n",
        "Para garantir que os conjuntos de Treino e Validação tenham a mesma quantidade de classes proporcionalmente, passamos `stratify=True`."
      ],
      "metadata": {
        "id": "JmiutpG1ujm-"
      }
    },
    {
      "cell_type": "code",
      "source": [
        "# separar variáveis entre X e y\n",
        "X = df_clean.drop('Class', axis=1)\n",
        "y = df['Class']\n",
        "\n",
        "# dividir o dataset entre treino e teste\n",
        "X_train, X_val, y_train, y_val = train_test_split(X, y, stratify=y, shuffle=True)"
      ],
      "metadata": {
        "id": "YgMGSjeXuadP"
      },
      "execution_count": null,
      "outputs": []
    },
    {
      "cell_type": "markdown",
      "source": [
        "**Balanceamento dos dados**\n",
        "\n",
        "Usando a biblioteca `imblearn` é possível aplicar facilmente técnicas de balanceamento de dados. No caso, a opção neste projeto foi usar *Under-sampling*, preservando a classe minoritária.\n",
        "\n",
        "É fácil notar que não há mais aquela discrepância inicial (gráfico de barras no início deste *notebook*)."
      ],
      "metadata": {
        "id": "V9redDp5uppO"
      }
    },
    {
      "cell_type": "code",
      "source": [
        "# usando técnica under-sampling\n",
        "rus = RandomUnderSampler()\n",
        "X_rus, y_rus = rus.fit_resample(X_train, y_train)\n",
        "\n",
        "# plotar gráfico de barras para as Classes\n",
        "fig, ax = plt.subplots()\n",
        "sns.countplot(y_rus)\n",
        "ax.set_title('Distribuição das Classes', fontsize=17, x=0.0, y=1.1, loc=\"left\")\n",
        "plt.suptitle(\"Contagem de casos sem (0) e com (1) fraude\", color = \"gray\", fontsize=12, x=0.125, y=0.95, ha=\"left\")\n",
        "\n",
        "# definindo visibilidade de parâmetros\n",
        "plt.tick_params(axis='x', which='both', bottom=False, top=False, labelbottom=True) \n",
        "plt.tick_params(axis='y', which='both', right=False, left=False, labelleft=False) \n",
        "for pos in ['right', 'top', 'left', 'bottom']: \n",
        "    plt.gca().spines[pos].set_visible(False)\n",
        "\n",
        "#colocando os rótulos\n",
        "for retangulo in ax.patches:\n",
        "  ax.text(retangulo.get_x() + retangulo.get_width() / 2,\n",
        "          retangulo.get_height(),\n",
        "          '{:,}'.format(int(retangulo.get_height())).replace(',','.'), # adicionando o texto da altura\n",
        "          ha = 'center')\n",
        "\n",
        "# definindo labels\n",
        "plt.ylabel('Transações (qtd)')\n",
        "\n",
        "#plotado gráfico\n",
        "plt.plot();"
      ],
      "metadata": {
        "colab": {
          "base_uri": "https://localhost:8080/",
          "height": 321
        },
        "id": "1K4hMlbRulbG",
        "outputId": "77bfb2c2-60a1-48ee-e680-5f3808e812ed"
      },
      "execution_count": null,
      "outputs": [
        {
          "output_type": "display_data",
          "data": {
            "text/plain": [
              "<Figure size 432x288 with 1 Axes>"
            ],
            "image/png": "[encoded data removed]"
          },
          "metadata": {}
        }
      ]
    },
    {
      "cell_type": "markdown",
      "source": [
        "Com os dados balanceados, podemos ver a matriz de correlação e identificar quais variáveis estão mais fortemente relacionadas com as outras.\n",
        "\n",
        "Observe como anteriormente, sem o balanceamento de dados, a matriz de correlação não trazia nenhuma informação relevante. Entretanto, ela traz muito mais informações após um correto balanceamento."
      ],
      "metadata": {
        "id": "LNsHSJDKzzc1"
      }
    },
    {
      "cell_type": "code",
      "source": [
        "# plotar a matriz de correlação\n",
        "corr = X_train.corr()\n",
        "corr_rus = pd.DataFrame(X_rus).corr()\n",
        "\n",
        "# gerando as figuras\n",
        "fig, ax = plt.subplots(nrows=1, ncols=2, figsize = (18,8))\n",
        "fig.suptitle('Matriz de Correlação')\n",
        "\n",
        "# definindo parâmetros do gráfico\n",
        "mask = np.zeros_like(corr)\n",
        "mask[np.triu_indices_from(mask)] = True\n",
        "\n",
        "# gerando a primeira matrix de correlação\n",
        "sns.heatmap(corr, xticklabels=corr.columns, yticklabels=corr.columns, linewidths=.1, cmap='RdBu', fmt='.2f', mask=mask, ax=ax[0], vmax=1, vmin=-1)\n",
        "ax[0].set_title('Desbalanceado')\n",
        "\n",
        "# gerando a segunda matrix de correlação\n",
        "sns.heatmap(corr_rus, xticklabels=corr.columns, yticklabels=corr.columns, linewidths=.1, cmap='RdBu', fmt='.2f', mask=mask, ax=ax[1], vmax=1, vmin=-1)\n",
        "ax[1].set_title('Balanceado')\n",
        "\n",
        "# plotando os gráficos\n",
        "plt.show()"
      ],
      "metadata": {
        "colab": {
          "base_uri": "https://localhost:8080/",
          "height": 589
        },
        "id": "0a2XKPPuulou",
        "outputId": "fd6de658-6fe4-40f5-b2f8-041c1de823b0"
      },
      "execution_count": null,
      "outputs": [
        {
          "output_type": "display_data",
          "data": {
            "text/plain": [
              "<Figure size 1296x576 with 4 Axes>"
            ],
            "image/png": "[encoded data removed]"
          },
          "metadata": {}
        }
      ]
    },
    {
      "cell_type": "markdown",
      "metadata": {
        "id": "wJNH5qcjRxfX"
      },
      "source": [
        "## Construção de modelos de Machine Learning\n"
      ]
    },
    {
      "cell_type": "markdown",
      "source": [
        "Para este estudo foram desenvolvidos três tipos de modelo de **classificação**: Regressão Logística, Decision Tree e KNN."
      ],
      "metadata": {
        "id": "tW5giYq54Ora"
      }
    },
    {
      "cell_type": "markdown",
      "source": [
        "#####**Regressão Logística**"
      ],
      "metadata": {
        "id": "C3HyoQLv4KUy"
      }
    },
    {
      "cell_type": "markdown",
      "source": [
        "Com todos os dados preparados e após uma análise exploratória completa, irei construir um classificador usando a Regressão Logística.\n",
        "\n",
        "Após instanciar o modelo, o mesmo será treinado em cima dos dados em `X_rus` e `y_rus`. Na sequência, serão realizadas as previsões sobre os dados de teste."
      ],
      "metadata": {
        "id": "_d__nc1MEeqi"
      }
    },
    {
      "cell_type": "code",
      "source": [
        "# instanciar e treinar um modelo de Regressão Logística\n",
        "np.random.seed(2)\n",
        "model_LR = LogisticRegression()\n",
        "model_LR.fit(X_rus, y_rus)\n",
        "\n",
        "# fazer as previsões em cima dos dados de teste\n",
        "y_pred_LR = model_LR.predict(X_val)\n",
        "y_proba_LR = model_LR.predict_proba(X_val)"
      ],
      "metadata": {
        "id": "Mz1k3G_U42Kn"
      },
      "execution_count": null,
      "outputs": []
    },
    {
      "cell_type": "markdown",
      "source": [
        "Com o modelo treinado e as previsões feitas, parte-se para a avaliação do desempenho nos dados de validação.\n",
        "\n",
        "Neste tipo de problema, originalmente desbalanceado, a acurácia não é uma métrica adequada. Como expliquei [neste artigo](http://sigmoidal.ai/como-lidar-com-dados-desbalanceados/), você pode ter uma acurácia de 99,88% e detectar menos de 60% das fraudes.\n",
        "\n",
        "Observe a matriz de confusão para ver a taxa de acertos para transações fraudulentes, ou pela coluna *recall* do Relatório de Classificação. \n",
        "\n",
        "Uma outra métrica considerada interessante para se avaliar a eficácia é a [AUC ROC](https://medium.com/bio-data-blog/entenda-o-que-%C3%A9-auc-e-roc-nos-modelos-de-machine-learning-8191fb4df772), ou área sob a curva. No caso desse modelo de Regressão Logística, tem-se 92,7% de AUC."
      ],
      "metadata": {
        "id": "KTUtc-8tPFdV"
      }
    },
    {
      "cell_type": "code",
      "source": [
        "# plotar a matrix de confusão\n",
        "skplt.metrics.plot_confusion_matrix(y_val, y_pred_LR, normalize=True)\n",
        "\n",
        "# imprimir relatório de classificação\n",
        "print(\"Relatório de Classificação:\\n\", classification_report(y_val, y_pred_LR, digits=4))\n",
        "\n",
        "# imprimir a acurácia do modelo\n",
        "print(\"Acurácia: {:.4f}\\n\".format(accuracy_score(y_val, y_pred_LR)))\n",
        "\n",
        "# imprimir a área sob da curva\n",
        "print(\"AUC: {:.4f}\\n\".format(roc_auc_score(y_val, y_pred_LR)))"
      ],
      "metadata": {
        "colab": {
          "base_uri": "https://localhost:8080/",
          "height": 545
        },
        "id": "kRJ5qJGMEeH6",
        "outputId": "1b038f82-e7e6-4009-fe87-6b26753ffa09"
      },
      "execution_count": null,
      "outputs": [
        {
          "output_type": "stream",
          "name": "stdout",
          "text": [
            "Relatório de Classificação:\n",
            "               precision    recall  f1-score   support\n",
            "\n",
            "           0     0.9998    0.9698    0.9846     60417\n",
            "           1     0.0485    0.8857    0.0920       105\n",
            "\n",
            "    accuracy                         0.9697     60522\n",
            "   macro avg     0.5242    0.9278    0.5383     60522\n",
            "weighted avg     0.9981    0.9697    0.9830     60522\n",
            "\n",
            "Acurácia: 0.9697\n",
            "\n",
            "AUC: 0.9278\n",
            "\n"
          ]
        },
        {
          "output_type": "display_data",
          "data": {
            "text/plain": [
              "<Figure size 432x288 with 2 Axes>"
            ],
            "image/png": "[encoded data removed]"
          },
          "metadata": {}
        }
      ]
    },
    {
      "cell_type": "markdown",
      "source": [
        "#####**Decision Tree**"
      ],
      "metadata": {
        "id": "VXR338J3PRLT"
      }
    },
    {
      "cell_type": "markdown",
      "source": [
        "Com todos os dados preparados e após uma análise exploratória completa, agora irei construir um classificador usando Decision Tree.\n",
        "\n",
        "Após instanciar o modelo, o mesmo será treinado em cima dos dados em `X_rus` e `y_rus`. Na sequência, serão realizadas as previsões sobre os dados de teste."
      ],
      "metadata": {
        "id": "MQ9za2p7PXfb"
      }
    },
    {
      "cell_type": "code",
      "source": [
        "# instanciar e escolher os hyperparameters\n",
        "model_DT =DecisionTreeClassifier(max_features=8 , max_depth=6)\n",
        "\n",
        "# treinar o modelo\n",
        "model_DT.fit(X_rus , y_rus)\n",
        "\n",
        "# fazer as previsões em cima dos dados de teste\n",
        "y_pred_DT = model_DT.predict(X_val)\n",
        "y_proba_DT = model_DT.predict_proba(X_val)"
      ],
      "metadata": {
        "id": "o2akrxCbEcjK"
      },
      "execution_count": null,
      "outputs": []
    },
    {
      "cell_type": "markdown",
      "source": [
        "Com o modelo treinado e as previsões feitas, parte-se para a avaliação do desempenho nos dados de validação."
      ],
      "metadata": {
        "id": "v_Z2i-QkmEkF"
      }
    },
    {
      "cell_type": "code",
      "source": [
        "# plotar a matrix de confusão\n",
        "skplt.metrics.plot_confusion_matrix(y_val, y_pred_DT, normalize=True)\n",
        "\n",
        "# imprimir relatório de classificação\n",
        "print(\"Relatório de Classificação:\\n\", classification_report(y_val, y_pred_DT, digits=4))\n",
        "\n",
        "# imprimir a acurácia do modelo\n",
        "print(\"Acurácia: {:.4f}\\n\".format(accuracy_score(y_val, y_pred_DT)))\n",
        "\n",
        "# imprimir a área sob da curva\n",
        "print(\"AUC: {:.4f}\\n\".format(roc_auc_score(y_val, y_pred_DT)))"
      ],
      "metadata": {
        "colab": {
          "base_uri": "https://localhost:8080/",
          "height": 545
        },
        "id": "qLwE6WAPmEwd",
        "outputId": "191ff9f3-7ef1-47e9-ee78-2f3b259708cd"
      },
      "execution_count": null,
      "outputs": [
        {
          "output_type": "stream",
          "name": "stdout",
          "text": [
            "Relatório de Classificação:\n",
            "               precision    recall  f1-score   support\n",
            "\n",
            "           0     0.9998    0.9718    0.9856     60417\n",
            "           1     0.0512    0.8762    0.0967       105\n",
            "\n",
            "    accuracy                         0.9716     60522\n",
            "   macro avg     0.5255    0.9240    0.5412     60522\n",
            "weighted avg     0.9981    0.9716    0.9840     60522\n",
            "\n",
            "Acurácia: 0.9716\n",
            "\n",
            "AUC: 0.9240\n",
            "\n"
          ]
        },
        {
          "output_type": "display_data",
          "data": {
            "text/plain": [
              "<Figure size 432x288 with 2 Axes>"
            ],
            "image/png": "[encoded data removed]"
          },
          "metadata": {}
        }
      ]
    },
    {
      "cell_type": "markdown",
      "source": [
        "#####**KNN**"
      ],
      "metadata": {
        "id": "BugnA7TpU_1u"
      }
    },
    {
      "cell_type": "markdown",
      "source": [
        "Com todos os dados preparados e após uma análise exploratória completa, agora irei construir um classificador usando KNN.\n",
        "\n",
        "Após instanciar o modelo, o mesmo será treinado em cima dos dados em `X_rus` e `y_rus`. Na sequência, serão realizadas as previsões sobre os dados de teste."
      ],
      "metadata": {
        "id": "DNhe4dXHmfm0"
      }
    },
    {
      "cell_type": "code",
      "source": [
        "# instanciar e escolher os hyperparameters\n",
        "model_KNN = KNeighborsClassifier(n_neighbors=7)\n",
        "\n",
        "# treinar o modelo\n",
        "model_KNN.fit(X_rus, y_rus)\n",
        "\n",
        "# fazer as previsões em cima dos dados de teste\n",
        "y_pred_KNN = model_KNN.predict(X_val)\n",
        "y_proba_KNN = model_KNN.predict_proba(X_val)"
      ],
      "metadata": {
        "id": "rl2GNmsymfm1"
      },
      "execution_count": null,
      "outputs": []
    },
    {
      "cell_type": "markdown",
      "source": [
        "Com o modelo treinado e as previsões feitas, parte-se para a avaliação do desempenho nos dados de validação."
      ],
      "metadata": {
        "id": "RusaRiJMmfm1"
      }
    },
    {
      "cell_type": "code",
      "source": [
        "# plotar a matrix de confusão\n",
        "skplt.metrics.plot_confusion_matrix(y_val, y_pred_KNN, normalize=True)\n",
        "\n",
        "# imprimir relatório de classificação\n",
        "print(\"Relatório de Classificação:\\n\", classification_report(y_val, y_pred_KNN, digits=4))\n",
        "\n",
        "# imprimir a acurácia do modelo\n",
        "print(\"Acurácia: {:.4f}\\n\".format(accuracy_score(y_val, y_pred_KNN)))\n",
        "\n",
        "# imprimir a área sob da curva\n",
        "print(\"AUC: {:.4f}\\n\".format(roc_auc_score(y_val, y_pred_KNN)))"
      ],
      "metadata": {
        "colab": {
          "base_uri": "https://localhost:8080/",
          "height": 545
        },
        "id": "zIl_K98Nmfm1",
        "outputId": "f3e3d18a-813e-4610-de21-ceaa43821432"
      },
      "execution_count": null,
      "outputs": [
        {
          "output_type": "stream",
          "name": "stdout",
          "text": [
            "Relatório de Classificação:\n",
            "               precision    recall  f1-score   support\n",
            "\n",
            "           0     0.9998    0.9825    0.9911     60417\n",
            "           1     0.0801    0.8762    0.1468       105\n",
            "\n",
            "    accuracy                         0.9823     60522\n",
            "   macro avg     0.5400    0.9294    0.5690     60522\n",
            "weighted avg     0.9982    0.9823    0.9896     60522\n",
            "\n",
            "Acurácia: 0.9823\n",
            "\n",
            "AUC: 0.9294\n",
            "\n"
          ]
        },
        {
          "output_type": "display_data",
          "data": {
            "text/plain": [
              "<Figure size 432x288 with 2 Axes>"
            ],
            "image/png": "[encoded data removed]"
          },
          "metadata": {}
        }
      ]
    },
    {
      "cell_type": "markdown",
      "source": [
        "#####**Comparação dos modelos**"
      ],
      "metadata": {
        "id": "dnLFMNIcRJk6"
      }
    },
    {
      "cell_type": "markdown",
      "source": [
        "Para facilitar a comparação entre os modelos, criei um dicionário para armazenar os resultados dos diferentes modelos construídos."
      ],
      "metadata": {
        "id": "0ei9QLHsRJtq"
      }
    },
    {
      "cell_type": "code",
      "source": [
        "# gerando a base de dados\n",
        "model_comparison={}\n",
        "model_comparison['Regressão Logística']=[accuracy_score(y_val,y_pred_LR), f1_score(y_val,y_pred_LR,average='weighted'), roc_auc_score(y_val, y_pred_LR), recall_score(y_val,y_pred_LR,average='weighted')]\n",
        "model_comparison['Decision Tree']=[accuracy_score(y_val,y_pred_DT), f1_score(y_val,y_pred_DT,average='weighted'), roc_auc_score(y_val, y_pred_DT), recall_score(y_val,y_pred_DT,average='weighted')]\n",
        "model_comparison['KNN']=[accuracy_score(y_val,y_pred_KNN), f1_score(y_val,y_pred_KNN,average='weighted'), roc_auc_score(y_val, y_pred_KNN), recall_score(y_val,y_pred_KNN,average='weighted')]"
      ],
      "metadata": {
        "id": "bkF3UYAEEcqh"
      },
      "execution_count": null,
      "outputs": []
    },
    {
      "cell_type": "code",
      "source": [
        "# gerando a tabela de comparação\n",
        "Model_com_df=pd.DataFrame(model_comparison).T\n",
        "Model_com_df.columns=['Model Accuracy','Model F1-Score', 'AUC ROC', 'Recall Scorre']\n",
        "Model_com_df=Model_com_df.sort_values(by='Model F1-Score',ascending=True)\n",
        "Model_com_df.style.format(\"{:.2%}\").background_gradient(cmap='Blues')"
      ],
      "metadata": {
        "colab": {
          "base_uri": "https://localhost:8080/",
          "height": 143
        },
        "id": "BIW7XX6-0-xg",
        "outputId": "f45cd3a0-3af0-4354-98c0-a55ce152c52a"
      },
      "execution_count": null,
      "outputs": [
        {
          "output_type": "execute_result",
          "data": {
            "text/plain": [
              "<pandas.io.formats.style.Styler at 0x7fbb1f1dd5d0>"
            ],
            "text/html": [
              "<style type=\"text/css\">\n",
              "#T_45e17_row0_col0, #T_45e17_row0_col1, #T_45e17_row0_col3, #T_45e17_row1_col2 {\n",
              "  background-color: #f7fbff;\n",
              "  color: #000000;\n",
              "}\n",
              "#T_45e17_row0_col2 {\n",
              "  background-color: #2d7dbb;\n",
              "  color: #f1f1f1;\n",
              "}\n",
              "#T_45e17_row1_col0, #T_45e17_row1_col1, #T_45e17_row1_col3 {\n",
              "  background-color: #d9e7f5;\n",
              "  color: #000000;\n",
              "}\n",
              "#T_45e17_row2_col0, #T_45e17_row2_col1, #T_45e17_row2_col2, #T_45e17_row2_col3 {\n",
              "  background-color: #08306b;\n",
              "  color: #f1f1f1;\n",
              "}\n",
              "</style>\n",
              "<table id=\"T_45e17_\" class=\"dataframe\">\n",
              "  <thead>\n",
              "    <tr>\n",
              "      <th class=\"blank level0\" >&nbsp;</th>\n",
              "      <th class=\"col_heading level0 col0\" >Model Accuracy</th>\n",
              "      <th class=\"col_heading level0 col1\" >Model F1-Score</th>\n",
              "      <th class=\"col_heading level0 col2\" >AUC ROC</th>\n",
              "      <th class=\"col_heading level0 col3\" >Recall Scorre</th>\n",
              "    </tr>\n",
              "  </thead>\n",
              "  <tbody>\n",
              "    <tr>\n",
              "      <th id=\"T_45e17_level0_row0\" class=\"row_heading level0 row0\" >Regressão Logística</th>\n",
              "      <td id=\"T_45e17_row0_col0\" class=\"data row0 col0\" >96.97%</td>\n",
              "      <td id=\"T_45e17_row0_col1\" class=\"data row0 col1\" >98.30%</td>\n",
              "      <td id=\"T_45e17_row0_col2\" class=\"data row0 col2\" >92.78%</td>\n",
              "      <td id=\"T_45e17_row0_col3\" class=\"data row0 col3\" >96.97%</td>\n",
              "    </tr>\n",
              "    <tr>\n",
              "      <th id=\"T_45e17_level0_row1\" class=\"row_heading level0 row1\" >Decision Tree</th>\n",
              "      <td id=\"T_45e17_row1_col0\" class=\"data row1 col0\" >97.16%</td>\n",
              "      <td id=\"T_45e17_row1_col1\" class=\"data row1 col1\" >98.40%</td>\n",
              "      <td id=\"T_45e17_row1_col2\" class=\"data row1 col2\" >92.40%</td>\n",
              "      <td id=\"T_45e17_row1_col3\" class=\"data row1 col3\" >97.16%</td>\n",
              "    </tr>\n",
              "    <tr>\n",
              "      <th id=\"T_45e17_level0_row2\" class=\"row_heading level0 row2\" >KNN</th>\n",
              "      <td id=\"T_45e17_row2_col0\" class=\"data row2 col0\" >98.23%</td>\n",
              "      <td id=\"T_45e17_row2_col1\" class=\"data row2 col1\" >98.96%</td>\n",
              "      <td id=\"T_45e17_row2_col2\" class=\"data row2 col2\" >92.94%</td>\n",
              "      <td id=\"T_45e17_row2_col3\" class=\"data row2 col3\" >98.23%</td>\n",
              "    </tr>\n",
              "  </tbody>\n",
              "</table>\n"
            ]
          },
          "metadata": {},
          "execution_count": 78
        }
      ]
    },
    {
      "cell_type": "markdown",
      "metadata": {
        "id": "3e4ENOTYSUXi"
      },
      "source": [
        "## Avaliação de desempenho dos modelos"
      ]
    },
    {
      "cell_type": "markdown",
      "source": [
        "No começo do projeto, realizamos um split nos dados para que tivéssemos 3 conjuntos: Um de treino, um de validação e um de teste.\n",
        "\n",
        "Agora que já exploramos e preparamos os dados, instanciamos o modelo e fizemos previsões no conjunto de validação, é hora de descobrirmos o potencial desses modelos com os dados de teste.\n",
        "\n",
        "O que faremos é apenas utilizar os modelos que treinamos com um novo conjunto. Mas, para que os resultados sejam justos, precisamos fazer com que os novos dados estejam nas mesmas condições daqueles que o nosso modelo espera.\n",
        "\n",
        "Nesse caso, precisamos padronizar as colunas Time e Amount. Não podemos balancear os dados pois haveria perda. Nosso modelo precisa ser tratado, mas precisamos fazer previsões em todas as linhas que ele receber.\n"
      ],
      "metadata": {
        "id": "QaCdFB_WPnUk"
      }
    },
    {
      "cell_type": "code",
      "source": [
        "# padronizar as colunas Time e Amount - Teste\n",
        "test_clean = test.copy()\n",
        "\n",
        "std_scaler = StandardScaler()\n",
        "test_clean['std_amount'] = std_scaler.fit_transform(test_clean['Amount'].values.reshape(-1, 1))\n",
        "test_clean['std_time'] = std_scaler.fit_transform(test_clean['Time'].values.reshape(-1, 1))\n",
        "\n",
        "test_clean.drop(['Time', 'Amount'], axis=1, inplace=True)\n",
        "\n",
        "# ver as primeiras entradas\n",
        "test_clean.head()"
      ],
      "metadata": {
        "colab": {
          "base_uri": "https://localhost:8080/",
          "height": 236
        },
        "id": "8B6eHR8JQJWc",
        "outputId": "fbbe9dcc-969d-4826-ef79-81c58220160b"
      },
      "execution_count": null,
      "outputs": [
        {
          "output_type": "execute_result",
          "data": {
            "text/plain": [
              "              V1        V2        V3        V4        V5        V6        V7  \\\n",
              "183484 -0.323334  1.057455 -0.048341 -0.607204  1.259821 -0.091761  1.159101   \n",
              "255448 -0.349718  0.932619  0.142992 -0.657071  1.169784 -0.733369  1.009985   \n",
              "244749 -1.614711 -2.406570  0.326194  0.665520  2.369268 -1.775367 -1.139049   \n",
              "63919  -2.477184  0.860613  1.441850  1.051019 -1.856621  2.078384  0.510828   \n",
              "11475   1.338831 -0.547264  0.737389 -0.212383 -1.110039 -0.525744 -0.801403   \n",
              "\n",
              "              V8        V9       V10  ...       V22       V23       V24  \\\n",
              "183484 -0.124335 -0.174640 -1.644401  ... -0.433890 -0.261613 -0.046651   \n",
              "255448 -0.071069 -0.302083 -1.192404  ... -0.833209 -0.030360  0.490035   \n",
              "244749  0.329904  0.903813 -0.219013  ...  1.134489  0.965054  0.640981   \n",
              "63919  -0.243399 -0.260691  0.133040  ...  0.692245  0.150121 -0.260777   \n",
              "11475  -0.063672  0.997276  0.113386  ... -0.074719  0.067055  0.333122   \n",
              "\n",
              "             V25       V26       V27       V28  Class  std_amount  std_time  \n",
              "183484  0.211512  0.008297  0.108494  0.161139      0   -0.177738  0.658372  \n",
              "255448 -0.404816  0.134350  0.076830  0.175562      0   -0.321945  1.320094  \n",
              "244749 -1.801998 -1.041114  0.286285  0.437322      0    0.034666  1.219742  \n",
              "63919   0.005183 -0.177847 -0.510060 -0.660533      0    0.838765 -0.919236  \n",
              "11475   0.379087 -0.268706 -0.002769  0.003272      0   -0.310490 -1.572827  \n",
              "\n",
              "[5 rows x 31 columns]"
            ],
            "text/html": [
              "\n",
              "  <div id=\"df-9ca79a9e-4a58-4934-b36c-0a116c60cb48\">\n",
              "    <div class=\"colab-df-container\">\n",
              "      <div>\n",
              "<style scoped>\n",
              "    .dataframe tbody tr th:only-of-type {\n",
              "        vertical-align: middle;\n",
              "    }\n",
              "\n",
              "    .dataframe tbody tr th {\n",
              "        vertical-align: top;\n",
              "    }\n",
              "\n",
              "    .dataframe thead th {\n",
              "        text-align: right;\n",
              "    }\n",
              "</style>\n",
              "<table border=\"1\" class=\"dataframe\">\n",
              "  <thead>\n",
              "    <tr style=\"text-align: right;\">\n",
              "      <th></th>\n",
              "      <th>V1</th>\n",
              "      <th>V2</th>\n",
              "      <th>V3</th>\n",
              "      <th>V4</th>\n",
              "      <th>V5</th>\n",
              "      <th>V6</th>\n",
              "      <th>V7</th>\n",
              "      <th>V8</th>\n",
              "      <th>V9</th>\n",
              "      <th>V10</th>\n",
              "      <th>...</th>\n",
              "      <th>V22</th>\n",
              "      <th>V23</th>\n",
              "      <th>V24</th>\n",
              "      <th>V25</th>\n",
              "      <th>V26</th>\n",
              "      <th>V27</th>\n",
              "      <th>V28</th>\n",
              "      <th>Class</th>\n",
              "      <th>std_amount</th>\n",
              "      <th>std_time</th>\n",
              "    </tr>\n",
              "  </thead>\n",
              "  <tbody>\n",
              "    <tr>\n",
              "      <th>183484</th>\n",
              "      <td>-0.323334</td>\n",
              "      <td>1.057455</td>\n",
              "      <td>-0.048341</td>\n",
              "      <td>-0.607204</td>\n",
              "      <td>1.259821</td>\n",
              "      <td>-0.091761</td>\n",
              "      <td>1.159101</td>\n",
              "      <td>-0.124335</td>\n",
              "      <td>-0.174640</td>\n",
              "      <td>-1.644401</td>\n",
              "      <td>...</td>\n",
              "      <td>-0.433890</td>\n",
              "      <td>-0.261613</td>\n",
              "      <td>-0.046651</td>\n",
              "      <td>0.211512</td>\n",
              "      <td>0.008297</td>\n",
              "      <td>0.108494</td>\n",
              "      <td>0.161139</td>\n",
              "      <td>0</td>\n",
              "      <td>-0.177738</td>\n",
              "      <td>0.658372</td>\n",
              "    </tr>\n",
              "    <tr>\n",
              "      <th>255448</th>\n",
              "      <td>-0.349718</td>\n",
              "      <td>0.932619</td>\n",
              "      <td>0.142992</td>\n",
              "      <td>-0.657071</td>\n",
              "      <td>1.169784</td>\n",
              "      <td>-0.733369</td>\n",
              "      <td>1.009985</td>\n",
              "      <td>-0.071069</td>\n",
              "      <td>-0.302083</td>\n",
              "      <td>-1.192404</td>\n",
              "      <td>...</td>\n",
              "      <td>-0.833209</td>\n",
              "      <td>-0.030360</td>\n",
              "      <td>0.490035</td>\n",
              "      <td>-0.404816</td>\n",
              "      <td>0.134350</td>\n",
              "      <td>0.076830</td>\n",
              "      <td>0.175562</td>\n",
              "      <td>0</td>\n",
              "      <td>-0.321945</td>\n",
              "      <td>1.320094</td>\n",
              "    </tr>\n",
              "    <tr>\n",
              "      <th>244749</th>\n",
              "      <td>-1.614711</td>\n",
              "      <td>-2.406570</td>\n",
              "      <td>0.326194</td>\n",
              "      <td>0.665520</td>\n",
              "      <td>2.369268</td>\n",
              "      <td>-1.775367</td>\n",
              "      <td>-1.139049</td>\n",
              "      <td>0.329904</td>\n",
              "      <td>0.903813</td>\n",
              "      <td>-0.219013</td>\n",
              "      <td>...</td>\n",
              "      <td>1.134489</td>\n",
              "      <td>0.965054</td>\n",
              "      <td>0.640981</td>\n",
              "      <td>-1.801998</td>\n",
              "      <td>-1.041114</td>\n",
              "      <td>0.286285</td>\n",
              "      <td>0.437322</td>\n",
              "      <td>0</td>\n",
              "      <td>0.034666</td>\n",
              "      <td>1.219742</td>\n",
              "    </tr>\n",
              "    <tr>\n",
              "      <th>63919</th>\n",
              "      <td>-2.477184</td>\n",
              "      <td>0.860613</td>\n",
              "      <td>1.441850</td>\n",
              "      <td>1.051019</td>\n",
              "      <td>-1.856621</td>\n",
              "      <td>2.078384</td>\n",
              "      <td>0.510828</td>\n",
              "      <td>-0.243399</td>\n",
              "      <td>-0.260691</td>\n",
              "      <td>0.133040</td>\n",
              "      <td>...</td>\n",
              "      <td>0.692245</td>\n",
              "      <td>0.150121</td>\n",
              "      <td>-0.260777</td>\n",
              "      <td>0.005183</td>\n",
              "      <td>-0.177847</td>\n",
              "      <td>-0.510060</td>\n",
              "      <td>-0.660533</td>\n",
              "      <td>0</td>\n",
              "      <td>0.838765</td>\n",
              "      <td>-0.919236</td>\n",
              "    </tr>\n",
              "    <tr>\n",
              "      <th>11475</th>\n",
              "      <td>1.338831</td>\n",
              "      <td>-0.547264</td>\n",
              "      <td>0.737389</td>\n",
              "      <td>-0.212383</td>\n",
              "      <td>-1.110039</td>\n",
              "      <td>-0.525744</td>\n",
              "      <td>-0.801403</td>\n",
              "      <td>-0.063672</td>\n",
              "      <td>0.997276</td>\n",
              "      <td>0.113386</td>\n",
              "      <td>...</td>\n",
              "      <td>-0.074719</td>\n",
              "      <td>0.067055</td>\n",
              "      <td>0.333122</td>\n",
              "      <td>0.379087</td>\n",
              "      <td>-0.268706</td>\n",
              "      <td>-0.002769</td>\n",
              "      <td>0.003272</td>\n",
              "      <td>0</td>\n",
              "      <td>-0.310490</td>\n",
              "      <td>-1.572827</td>\n",
              "    </tr>\n",
              "  </tbody>\n",
              "</table>\n",
              "<p>5 rows × 31 columns</p>\n",
              "</div>\n",
              "      <button class=\"colab-df-convert\" onclick=\"convertToInteractive('df-9ca79a9e-4a58-4934-b36c-0a116c60cb48')\"\n",
              "              title=\"Convert this dataframe to an interactive table.\"\n",
              "              style=\"display:none;\">\n",
              "        \n",
              "  <svg xmlns=\"http://www.w3.org/2000/svg\" height=\"24px\"viewBox=\"0 0 24 24\"\n",
              "       width=\"24px\">\n",
              "    <path d=\"M0 0h24v24H0V0z\" fill=\"none\"/>\n",
              "    <path d=\"M18.56 5.44l.94 2.06.94-2.06 2.06-.94-2.06-.94-.94-2.06-.94 2.06-2.06.94zm-11 1L8.5 8.5l.94-2.06 2.06-.94-2.06-.94L8.5 2.5l-.94 2.06-2.06.94zm10 10l.94 2.06.94-2.06 2.06-.94-2.06-.94-.94-2.06-.94 2.06-2.06.94z\"/><path d=\"M17.41 7.96l-1.37-1.37c-.4-.4-.92-.59-1.43-.59-.52 0-1.04.2-1.43.59L10.3 9.45l-7.72 7.72c-.78.78-.78 2.05 0 2.83L4 21.41c.39.39.9.59 1.41.59.51 0 1.02-.2 1.41-.59l7.78-7.78 2.81-2.81c.8-.78.8-2.07 0-2.86zM5.41 20L4 18.59l7.72-7.72 1.47 1.35L5.41 20z\"/>\n",
              "  </svg>\n",
              "      </button>\n",
              "      \n",
              "  <style>\n",
              "    .colab-df-container {\n",
              "      display:flex;\n",
              "      flex-wrap:wrap;\n",
              "      gap: 12px;\n",
              "    }\n",
              "\n",
              "    .colab-df-convert {\n",
              "      background-color: #E8F0FE;\n",
              "      border: none;\n",
              "      border-radius: 50%;\n",
              "      cursor: pointer;\n",
              "      display: none;\n",
              "      fill: #1967D2;\n",
              "      height: 32px;\n",
              "      padding: 0 0 0 0;\n",
              "      width: 32px;\n",
              "    }\n",
              "\n",
              "    .colab-df-convert:hover {\n",
              "      background-color: #E2EBFA;\n",
              "      box-shadow: 0px 1px 2px rgba(60, 64, 67, 0.3), 0px 1px 3px 1px rgba(60, 64, 67, 0.15);\n",
              "      fill: #174EA6;\n",
              "    }\n",
              "\n",
              "    [theme=dark] .colab-df-convert {\n",
              "      background-color: #3B4455;\n",
              "      fill: #D2E3FC;\n",
              "    }\n",
              "\n",
              "    [theme=dark] .colab-df-convert:hover {\n",
              "      background-color: #434B5C;\n",
              "      box-shadow: 0px 1px 3px 1px rgba(0, 0, 0, 0.15);\n",
              "      filter: drop-shadow(0px 1px 2px rgba(0, 0, 0, 0.3));\n",
              "      fill: #FFFFFF;\n",
              "    }\n",
              "  </style>\n",
              "\n",
              "      <script>\n",
              "        const buttonEl =\n",
              "          document.querySelector('#df-9ca79a9e-4a58-4934-b36c-0a116c60cb48 button.colab-df-convert');\n",
              "        buttonEl.style.display =\n",
              "          google.colab.kernel.accessAllowed ? 'block' : 'none';\n",
              "\n",
              "        async function convertToInteractive(key) {\n",
              "          const element = document.querySelector('#df-9ca79a9e-4a58-4934-b36c-0a116c60cb48');\n",
              "          const dataTable =\n",
              "            await google.colab.kernel.invokeFunction('convertToInteractive',\n",
              "                                                     [key], {});\n",
              "          if (!dataTable) return;\n",
              "\n",
              "          const docLinkHtml = 'Like what you see? Visit the ' +\n",
              "            '<a target=\"_blank\" href=https://colab.research.google.com/notebooks/data_table.ipynb>data table notebook</a>'\n",
              "            + ' to learn more about interactive tables.';\n",
              "          element.innerHTML = '';\n",
              "          dataTable['output_type'] = 'display_data';\n",
              "          await google.colab.output.renderOutput(dataTable, element);\n",
              "          const docLink = document.createElement('div');\n",
              "          docLink.innerHTML = docLinkHtml;\n",
              "          element.appendChild(docLink);\n",
              "        }\n",
              "      </script>\n",
              "    </div>\n",
              "  </div>\n",
              "  "
            ]
          },
          "metadata": {},
          "execution_count": 79
        }
      ]
    },
    {
      "cell_type": "markdown",
      "source": [
        "Agora basta separar entre X e Y, e fazer nossas previsões."
      ],
      "metadata": {
        "id": "oWPih1-MQP2L"
      }
    },
    {
      "cell_type": "code",
      "source": [
        "# separar variáveis entre X e y\n",
        "X_test = test_clean.drop('Class', axis=1)\n",
        "y_test = test['Class']"
      ],
      "metadata": {
        "id": "UUaxqX6vQQhr"
      },
      "execution_count": null,
      "outputs": []
    },
    {
      "cell_type": "markdown",
      "source": [
        "#####**Regressão Logística**"
      ],
      "metadata": {
        "id": "QVvHbgbsPhTw"
      }
    },
    {
      "cell_type": "markdown",
      "source": [
        "Com os dados de `test` preparados vamos fazer as previsões da Regressão Logística."
      ],
      "metadata": {
        "id": "A8nZgRCLPiJM"
      }
    },
    {
      "cell_type": "code",
      "metadata": {
        "id": "H1jEi7gkSe2r"
      },
      "source": [
        "# fazer as previsões em cima dos dados de teste\n",
        "y_pred_LR = model_LR.predict(X_test)"
      ],
      "execution_count": null,
      "outputs": []
    },
    {
      "cell_type": "markdown",
      "source": [
        "Pronto! Com nossas previsões feitas, é hora de visualizar os resultados."
      ],
      "metadata": {
        "id": "1wTfeSqLQlrE"
      }
    },
    {
      "cell_type": "code",
      "source": [
        "# plotar a matrix de confusão\n",
        "skplt.metrics.plot_confusion_matrix(y_test, y_pred_LR, normalize=True)\n",
        "\n",
        "# imprimir relatório de classificação\n",
        "print(\"Relatório de Classificação:\\n\", classification_report(y_test, y_pred_LR, digits=4))\n",
        "\n",
        "# imprimir a acurácia do modelo\n",
        "print(\"Acurácia: {:.4f}\\n\".format(accuracy_score(y_test, y_pred_LR)))\n",
        "\n",
        "# imprimir a área sob da curva\n",
        "print(\"AUC: {:.4f}\\n\".format(roc_auc_score(y_test, y_pred_LR)))"
      ],
      "metadata": {
        "colab": {
          "base_uri": "https://localhost:8080/",
          "height": 545
        },
        "id": "U4OH5mSBPcBD",
        "outputId": "0f11aca7-778f-4367-98ab-fbf94d6178b8"
      },
      "execution_count": null,
      "outputs": [
        {
          "output_type": "stream",
          "name": "stdout",
          "text": [
            "Relatório de Classificação:\n",
            "               precision    recall  f1-score   support\n",
            "\n",
            "           0     0.9999    0.9721    0.9858     42647\n",
            "           1     0.0548    0.9324    0.1036        74\n",
            "\n",
            "    accuracy                         0.9721     42721\n",
            "   macro avg     0.5274    0.9523    0.5447     42721\n",
            "weighted avg     0.9982    0.9721    0.9843     42721\n",
            "\n",
            "Acurácia: 0.9721\n",
            "\n",
            "AUC: 0.9523\n",
            "\n"
          ]
        },
        {
          "output_type": "display_data",
          "data": {
            "text/plain": [
              "<Figure size 432x288 with 2 Axes>"
            ],
            "image/png": "[encoded data removed]"
          },
          "metadata": {}
        }
      ]
    },
    {
      "cell_type": "markdown",
      "source": [
        "Podemos ver que nossos resultados da Regressão Logística foram muito próximos ao do conjunto de validação, o que é um excelente resultado!"
      ],
      "metadata": {
        "id": "fmpurCsPQqIL"
      }
    },
    {
      "cell_type": "markdown",
      "source": [
        "#####**Decision Tree**"
      ],
      "metadata": {
        "id": "2rJxLAaWQul6"
      }
    },
    {
      "cell_type": "markdown",
      "source": [
        "Com os dados de `test` preparados vamos fazer as previções de Decision Tree."
      ],
      "metadata": {
        "id": "A6rUdv-nTtqQ"
      }
    },
    {
      "cell_type": "code",
      "metadata": {
        "id": "RV7B91TaTtqY"
      },
      "source": [
        "# fazer as previsões em cima dos dados de teste\n",
        "y_pred_DT = model_DT.predict(X_test)"
      ],
      "execution_count": null,
      "outputs": []
    },
    {
      "cell_type": "markdown",
      "source": [
        "Pronto! Com nossas previsões feitas, é hora de visualizar os resultados."
      ],
      "metadata": {
        "id": "wVNFVfdXTtqd"
      }
    },
    {
      "cell_type": "code",
      "source": [
        "# plotar a matrix de confusão\n",
        "skplt.metrics.plot_confusion_matrix(y_test, y_pred_DT, normalize=True)\n",
        "\n",
        "# imprimir relatório de classificação\n",
        "print(\"Relatório de Classificação:\\n\", classification_report(y_test, y_pred_DT, digits=4))\n",
        "\n",
        "# imprimir a acurácia do modelo\n",
        "print(\"Acurácia: {:.4f}\\n\".format(accuracy_score(y_test, y_pred_DT)))\n",
        "\n",
        "# imprimir a área sob da curva\n",
        "print(\"AUC: {:.4f}\\n\".format(roc_auc_score(y_test, y_pred_DT)))"
      ],
      "metadata": {
        "colab": {
          "base_uri": "https://localhost:8080/",
          "height": 545
        },
        "outputId": "4508dbad-169b-44dd-b9ee-7d96b24a4683",
        "id": "HJhWVnxLTtqh"
      },
      "execution_count": null,
      "outputs": [
        {
          "output_type": "stream",
          "name": "stdout",
          "text": [
            "Relatório de Classificação:\n",
            "               precision    recall  f1-score   support\n",
            "\n",
            "           0     0.9998    0.9716    0.9855     42647\n",
            "           1     0.0509    0.8784    0.0962        74\n",
            "\n",
            "    accuracy                         0.9714     42721\n",
            "   macro avg     0.5253    0.9250    0.5408     42721\n",
            "weighted avg     0.9981    0.9714    0.9839     42721\n",
            "\n",
            "Acurácia: 0.9714\n",
            "\n",
            "AUC: 0.9250\n",
            "\n"
          ]
        },
        {
          "output_type": "display_data",
          "data": {
            "text/plain": [
              "<Figure size 432x288 with 2 Axes>"
            ],
            "image/png": "[encoded data removed]"
          },
          "metadata": {}
        }
      ]
    },
    {
      "cell_type": "markdown",
      "source": [
        "Podemos ver que nossos resultados de Decision Tree foram muito próximos ao do conjunto de validação, o que é um excelente resultado!"
      ],
      "metadata": {
        "id": "G4IO1U9GTtqm"
      }
    },
    {
      "cell_type": "markdown",
      "source": [
        "#####**KNN**"
      ],
      "metadata": {
        "id": "MIEhe9IuVN5I"
      }
    },
    {
      "cell_type": "markdown",
      "source": [
        "Com os dados de `test` preparados vamos fazer as previções da KNN."
      ],
      "metadata": {
        "id": "LpDSYwyUTxZA"
      }
    },
    {
      "cell_type": "code",
      "metadata": {
        "id": "mIU9-Eu6TxZF"
      },
      "source": [
        "# fazer as previsões em cima dos dados de teste\n",
        "y_pred_KNN = model_KNN.predict(X_test)"
      ],
      "execution_count": null,
      "outputs": []
    },
    {
      "cell_type": "markdown",
      "source": [
        "Pronto! Com nossas previsões feitas, é hora de visualizar os resultados."
      ],
      "metadata": {
        "id": "xCt3tRyWTxZI"
      }
    },
    {
      "cell_type": "code",
      "source": [
        "# plotar a matrix de confusão\n",
        "skplt.metrics.plot_confusion_matrix(y_test, y_pred_KNN, normalize=True)\n",
        "\n",
        "# imprimir relatório de classificação\n",
        "print(\"Relatório de Classificação:\\n\", classification_report(y_test, y_pred_KNN, digits=4))\n",
        "\n",
        "# imprimir a acurácia do modelo\n",
        "print(\"Acurácia: {:.4f}\\n\".format(accuracy_score(y_test, y_pred_KNN)))\n",
        "\n",
        "# imprimir a área sob da curva\n",
        "print(\"AUC: {:.4f}\\n\".format(roc_auc_score(y_test, y_pred_KNN)))"
      ],
      "metadata": {
        "colab": {
          "base_uri": "https://localhost:8080/",
          "height": 545
        },
        "outputId": "2a8f37e5-cb8b-4f73-fb96-23007c629efc",
        "id": "5mQKdIyHTxZO"
      },
      "execution_count": null,
      "outputs": [
        {
          "output_type": "stream",
          "name": "stdout",
          "text": [
            "Relatório de Classificação:\n",
            "               precision    recall  f1-score   support\n",
            "\n",
            "           0     0.9998    0.9838    0.9917     42647\n",
            "           1     0.0883    0.9054    0.1609        74\n",
            "\n",
            "    accuracy                         0.9836     42721\n",
            "   macro avg     0.5441    0.9446    0.5763     42721\n",
            "weighted avg     0.9983    0.9836    0.9903     42721\n",
            "\n",
            "Acurácia: 0.9836\n",
            "\n",
            "AUC: 0.9446\n",
            "\n"
          ]
        },
        {
          "output_type": "display_data",
          "data": {
            "text/plain": [
              "<Figure size 432x288 with 2 Axes>"
            ],
            "image/png": "[encoded data removed]"
          },
          "metadata": {}
        }
      ]
    },
    {
      "cell_type": "markdown",
      "source": [
        "Podemos ver que nossos resultados de KNN também foram muito próximos ao do conjunto de validação, o que é um excelente resultado!"
      ],
      "metadata": {
        "id": "Uzw35i0hUp6a"
      }
    },
    {
      "cell_type": "markdown",
      "source": [
        "#####**Comparação dos modelos**"
      ],
      "metadata": {
        "id": "q3CJC3-4VEM7"
      }
    },
    {
      "cell_type": "markdown",
      "source": [
        "Para facilitar a comparação entre os modelos, criei um dicionário para armazenar os resultados dos diferentes modelos construídos."
      ],
      "metadata": {
        "id": "L57SbW7aVEM_"
      }
    },
    {
      "cell_type": "code",
      "source": [
        "# gerando a base de dados\n",
        "model_comparison={}\n",
        "model_comparison['Regressão Logística']=[accuracy_score(y_test,y_pred_LR), f1_score(y_test,y_pred_LR,average='weighted'), roc_auc_score(y_test, y_pred_LR), recall_score(y_test,y_pred_LR,average='weighted')]\n",
        "model_comparison['Decision Tree']=[accuracy_score(y_test,y_pred_DT), f1_score(y_test,y_pred_DT,average='weighted'), roc_auc_score(y_test, y_pred_DT), recall_score(y_test,y_pred_DT,average='weighted')]\n",
        "model_comparison['KNN']=[accuracy_score(y_test,y_pred_KNN), f1_score(y_test,y_pred_KNN,average='weighted'), roc_auc_score(y_test, y_pred_KNN), recall_score(y_test,y_pred_KNN,average='weighted')]"
      ],
      "metadata": {
        "id": "GQaa2AbpVEND"
      },
      "execution_count": null,
      "outputs": []
    },
    {
      "cell_type": "code",
      "source": [
        "# gerando a tabela de comparação\n",
        "Model_com_df=pd.DataFrame(model_comparison).T\n",
        "Model_com_df.columns=['Model Accuracy','Model F1-Score', 'AUC ROC', 'Recall Scorre']\n",
        "Model_com_df=Model_com_df.sort_values(by='Model F1-Score',ascending=True)\n",
        "Model_com_df.style.format(\"{:.2%}\").background_gradient(cmap='Blues')"
      ],
      "metadata": {
        "colab": {
          "base_uri": "https://localhost:8080/",
          "height": 143
        },
        "outputId": "be7372f0-1824-493d-8542-a452a3bf95f1",
        "id": "QcdCa1zYVENH"
      },
      "execution_count": null,
      "outputs": [
        {
          "output_type": "execute_result",
          "data": {
            "text/plain": [
              "<pandas.io.formats.style.Styler at 0x7fbb1f52d810>"
            ],
            "text/html": [
              "<style type=\"text/css\">\n",
              "#T_1ec54_row0_col0, #T_1ec54_row0_col1, #T_1ec54_row0_col2, #T_1ec54_row0_col3 {\n",
              "  background-color: #f7fbff;\n",
              "  color: #000000;\n",
              "}\n",
              "#T_1ec54_row1_col0, #T_1ec54_row1_col3 {\n",
              "  background-color: #edf4fc;\n",
              "  color: #000000;\n",
              "}\n",
              "#T_1ec54_row1_col1 {\n",
              "  background-color: #ecf4fb;\n",
              "  color: #000000;\n",
              "}\n",
              "#T_1ec54_row1_col2, #T_1ec54_row2_col0, #T_1ec54_row2_col1, #T_1ec54_row2_col3 {\n",
              "  background-color: #08306b;\n",
              "  color: #f1f1f1;\n",
              "}\n",
              "#T_1ec54_row2_col2 {\n",
              "  background-color: #2a7ab9;\n",
              "  color: #f1f1f1;\n",
              "}\n",
              "</style>\n",
              "<table id=\"T_1ec54_\" class=\"dataframe\">\n",
              "  <thead>\n",
              "    <tr>\n",
              "      <th class=\"blank level0\" >&nbsp;</th>\n",
              "      <th class=\"col_heading level0 col0\" >Model Accuracy</th>\n",
              "      <th class=\"col_heading level0 col1\" >Model F1-Score</th>\n",
              "      <th class=\"col_heading level0 col2\" >AUC ROC</th>\n",
              "      <th class=\"col_heading level0 col3\" >Recall Scorre</th>\n",
              "    </tr>\n",
              "  </thead>\n",
              "  <tbody>\n",
              "    <tr>\n",
              "      <th id=\"T_1ec54_level0_row0\" class=\"row_heading level0 row0\" >Decision Tree</th>\n",
              "      <td id=\"T_1ec54_row0_col0\" class=\"data row0 col0\" >97.14%</td>\n",
              "      <td id=\"T_1ec54_row0_col1\" class=\"data row0 col1\" >98.39%</td>\n",
              "      <td id=\"T_1ec54_row0_col2\" class=\"data row0 col2\" >92.50%</td>\n",
              "      <td id=\"T_1ec54_row0_col3\" class=\"data row0 col3\" >97.14%</td>\n",
              "    </tr>\n",
              "    <tr>\n",
              "      <th id=\"T_1ec54_level0_row1\" class=\"row_heading level0 row1\" >Regressão Logística</th>\n",
              "      <td id=\"T_1ec54_row1_col0\" class=\"data row1 col0\" >97.21%</td>\n",
              "      <td id=\"T_1ec54_row1_col1\" class=\"data row1 col1\" >98.43%</td>\n",
              "      <td id=\"T_1ec54_row1_col2\" class=\"data row1 col2\" >95.23%</td>\n",
              "      <td id=\"T_1ec54_row1_col3\" class=\"data row1 col3\" >97.21%</td>\n",
              "    </tr>\n",
              "    <tr>\n",
              "      <th id=\"T_1ec54_level0_row2\" class=\"row_heading level0 row2\" >KNN</th>\n",
              "      <td id=\"T_1ec54_row2_col0\" class=\"data row2 col0\" >98.36%</td>\n",
              "      <td id=\"T_1ec54_row2_col1\" class=\"data row2 col1\" >99.03%</td>\n",
              "      <td id=\"T_1ec54_row2_col2\" class=\"data row2 col2\" >94.46%</td>\n",
              "      <td id=\"T_1ec54_row2_col3\" class=\"data row2 col3\" >98.36%</td>\n",
              "    </tr>\n",
              "  </tbody>\n",
              "</table>\n"
            ]
          },
          "metadata": {},
          "execution_count": 89
        }
      ]
    },
    {
      "cell_type": "markdown",
      "metadata": {
        "id": "0Bj7zRZMSfO7"
      },
      "source": [
        "## Conclusão\n"
      ]
    },
    {
      "cell_type": "markdown",
      "source": [
        "Como se pode observar, não se trata de um problema trivial. Apesar de os dados estarem bem tratados e limpos, sem valores ausentes ou variáveis categóricas, o desbalanceamento e a transformação PCA demandaram um trabalho considerável.\n",
        "\n",
        "A comparação entre diversos modelos torna-se interessante na medida em que se obtém resultados com melhor desempenho, gerando resultados um pouco melhores que os anteriores. Esta diferença já representa uma economia de milhões de reais conforme já introduzido neste notebook.\n",
        "\n",
        "O estudo atendeu de forma satisfatória os objetivos propostos nas premissas deste trabalho. Obviamente, apesar do bom resultado final, há espaço para testar o desempenho com outros algoritmos de classificação, além de otimizar seus parâmetros."
      ],
      "metadata": {
        "id": "YazRiF-ueHZv"
      }
    }
  ]
}